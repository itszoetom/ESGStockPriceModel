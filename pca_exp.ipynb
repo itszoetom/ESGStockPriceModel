{
 "cells": [
  {
   "cell_type": "code",
   "outputs": [
    {
     "data": {
      "text/plain": "            1. open   2. high    3. low  4. close    5. volume\ndate                                                          \n2025-03-04  270.930  284.3500  261.8401    272.04  125220232.0\n2025-03-03  300.340  303.9400  277.3000    284.65  115551414.0\n2025-02-28  279.500  293.8800  273.6000    292.98  115696968.0\n2025-02-27  291.160  297.2300  280.8800    281.95  101748197.0\n2025-02-26  303.715  309.0000  288.0400    290.80  100118276.0\n...             ...       ...       ...       ...          ...\n2010-07-06   20.000   20.0000   15.8300     16.11    6866900.0\n2010-07-02   23.000   23.1000   18.7100     19.20    5139800.0\n2010-07-01   25.000   25.9200   20.2700     21.96    8218800.0\n2010-06-30   25.790   30.4192   23.3000     23.83   17187100.0\n2010-06-29   19.000   25.0000   17.5400     23.89   18766300.0\n\n[3693 rows x 5 columns]",
      "text/html": "<div>\n<style scoped>\n    .dataframe tbody tr th:only-of-type {\n        vertical-align: middle;\n    }\n\n    .dataframe tbody tr th {\n        vertical-align: top;\n    }\n\n    .dataframe thead th {\n        text-align: right;\n    }\n</style>\n<table border=\"1\" class=\"dataframe\">\n  <thead>\n    <tr style=\"text-align: right;\">\n      <th></th>\n      <th>1. open</th>\n      <th>2. high</th>\n      <th>3. low</th>\n      <th>4. close</th>\n      <th>5. volume</th>\n    </tr>\n    <tr>\n      <th>date</th>\n      <th></th>\n      <th></th>\n      <th></th>\n      <th></th>\n      <th></th>\n    </tr>\n  </thead>\n  <tbody>\n    <tr>\n      <th>2025-03-04</th>\n      <td>270.930</td>\n      <td>284.3500</td>\n      <td>261.8401</td>\n      <td>272.04</td>\n      <td>125220232.0</td>\n    </tr>\n    <tr>\n      <th>2025-03-03</th>\n      <td>300.340</td>\n      <td>303.9400</td>\n      <td>277.3000</td>\n      <td>284.65</td>\n      <td>115551414.0</td>\n    </tr>\n    <tr>\n      <th>2025-02-28</th>\n      <td>279.500</td>\n      <td>293.8800</td>\n      <td>273.6000</td>\n      <td>292.98</td>\n      <td>115696968.0</td>\n    </tr>\n    <tr>\n      <th>2025-02-27</th>\n      <td>291.160</td>\n      <td>297.2300</td>\n      <td>280.8800</td>\n      <td>281.95</td>\n      <td>101748197.0</td>\n    </tr>\n    <tr>\n      <th>2025-02-26</th>\n      <td>303.715</td>\n      <td>309.0000</td>\n      <td>288.0400</td>\n      <td>290.80</td>\n      <td>100118276.0</td>\n    </tr>\n    <tr>\n      <th>...</th>\n      <td>...</td>\n      <td>...</td>\n      <td>...</td>\n      <td>...</td>\n      <td>...</td>\n    </tr>\n    <tr>\n      <th>2010-07-06</th>\n      <td>20.000</td>\n      <td>20.0000</td>\n      <td>15.8300</td>\n      <td>16.11</td>\n      <td>6866900.0</td>\n    </tr>\n    <tr>\n      <th>2010-07-02</th>\n      <td>23.000</td>\n      <td>23.1000</td>\n      <td>18.7100</td>\n      <td>19.20</td>\n      <td>5139800.0</td>\n    </tr>\n    <tr>\n      <th>2010-07-01</th>\n      <td>25.000</td>\n      <td>25.9200</td>\n      <td>20.2700</td>\n      <td>21.96</td>\n      <td>8218800.0</td>\n    </tr>\n    <tr>\n      <th>2010-06-30</th>\n      <td>25.790</td>\n      <td>30.4192</td>\n      <td>23.3000</td>\n      <td>23.83</td>\n      <td>17187100.0</td>\n    </tr>\n    <tr>\n      <th>2010-06-29</th>\n      <td>19.000</td>\n      <td>25.0000</td>\n      <td>17.5400</td>\n      <td>23.89</td>\n      <td>18766300.0</td>\n    </tr>\n  </tbody>\n</table>\n<p>3693 rows × 5 columns</p>\n</div>"
     },
     "execution_count": 1,
     "metadata": {},
     "output_type": "execute_result"
    }
   ],
   "source": [
    "from alpha_vantage.timeseries import TimeSeries\n",
    "import matplotlib.pyplot as plt\n",
    "import pandas as pd\n",
    "import numpy as np\n",
    "\n",
    "api_key = \"97OGHWS77V9ZH0G7\"\n",
    "ts = TimeSeries(key=api_key, output_format=\"pandas\")\n",
    "\n",
    "# Get daily historical data for Tesla\n",
    "tesla, tesla_meta = ts.get_daily(symbol=\"TSLA\", outputsize=\"full\")\n",
    "tesla"
   ],
   "metadata": {
    "collapsed": false,
    "ExecuteTime": {
     "end_time": "2025-03-05T02:49:55.789985Z",
     "start_time": "2025-03-05T02:49:55.081126Z"
    }
   },
   "id": "aa153b685f28737c",
   "execution_count": 1
  },
  {
   "cell_type": "code",
   "outputs": [
    {
     "data": {
      "text/plain": "   Category  Shanghai pilot ETS  Norway carbon tax  Sweden carbon tax  \\\n0      1991                 0.0              86.88                0.0   \n1      1992                 0.0             118.03                0.0   \n2      1993                 0.0             101.12                0.0   \n3      1994                 0.0              99.30                0.0   \n4      1995                 0.0             115.81                0.0   \n\n   BC carbon tax  Tokyo CaT  California CaT  Japan carbon tax  \\\n0            0.0        0.0             0.0               0.0   \n1            0.0        0.0             0.0               0.0   \n2            0.0        0.0             0.0               0.0   \n3            0.0        0.0             0.0               0.0   \n4            0.0        0.0             0.0               0.0   \n\n   UK Carbon Price Support  France carbon tax  Korea ETS  China national ETS  \\\n0                      0.0                0.0        0.0                 0.0   \n1                      0.0                0.0        0.0                 0.0   \n2                      0.0                0.0        0.0                 0.0   \n3                      0.0                0.0        0.0                 0.0   \n4                      0.0                0.0        0.0                 0.0   \n\n   Canada federal fuel charge  Netherlands carbon tax  Germany ETS  UK ETS  \\\n0                         0.0                     0.0          0.0     0.0   \n1                         0.0                     0.0          0.0     0.0   \n2                         0.0                     0.0          0.0     0.0   \n3                         0.0                     0.0          0.0     0.0   \n4                         0.0                     0.0          0.0     0.0   \n\n   Australia CPM  Ontario CaT  \n0              0            0  \n1              0            0  \n2              0            0  \n3              0            0  \n4              0            0  ",
      "text/html": "<div>\n<style scoped>\n    .dataframe tbody tr th:only-of-type {\n        vertical-align: middle;\n    }\n\n    .dataframe tbody tr th {\n        vertical-align: top;\n    }\n\n    .dataframe thead th {\n        text-align: right;\n    }\n</style>\n<table border=\"1\" class=\"dataframe\">\n  <thead>\n    <tr style=\"text-align: right;\">\n      <th></th>\n      <th>Category</th>\n      <th>Shanghai pilot ETS</th>\n      <th>Norway carbon tax</th>\n      <th>Sweden carbon tax</th>\n      <th>BC carbon tax</th>\n      <th>Tokyo CaT</th>\n      <th>California CaT</th>\n      <th>Japan carbon tax</th>\n      <th>UK Carbon Price Support</th>\n      <th>France carbon tax</th>\n      <th>Korea ETS</th>\n      <th>China national ETS</th>\n      <th>Canada federal fuel charge</th>\n      <th>Netherlands carbon tax</th>\n      <th>Germany ETS</th>\n      <th>UK ETS</th>\n      <th>Australia CPM</th>\n      <th>Ontario CaT</th>\n    </tr>\n  </thead>\n  <tbody>\n    <tr>\n      <th>0</th>\n      <td>1991</td>\n      <td>0.0</td>\n      <td>86.88</td>\n      <td>0.0</td>\n      <td>0.0</td>\n      <td>0.0</td>\n      <td>0.0</td>\n      <td>0.0</td>\n      <td>0.0</td>\n      <td>0.0</td>\n      <td>0.0</td>\n      <td>0.0</td>\n      <td>0.0</td>\n      <td>0.0</td>\n      <td>0.0</td>\n      <td>0.0</td>\n      <td>0</td>\n      <td>0</td>\n    </tr>\n    <tr>\n      <th>1</th>\n      <td>1992</td>\n      <td>0.0</td>\n      <td>118.03</td>\n      <td>0.0</td>\n      <td>0.0</td>\n      <td>0.0</td>\n      <td>0.0</td>\n      <td>0.0</td>\n      <td>0.0</td>\n      <td>0.0</td>\n      <td>0.0</td>\n      <td>0.0</td>\n      <td>0.0</td>\n      <td>0.0</td>\n      <td>0.0</td>\n      <td>0.0</td>\n      <td>0</td>\n      <td>0</td>\n    </tr>\n    <tr>\n      <th>2</th>\n      <td>1993</td>\n      <td>0.0</td>\n      <td>101.12</td>\n      <td>0.0</td>\n      <td>0.0</td>\n      <td>0.0</td>\n      <td>0.0</td>\n      <td>0.0</td>\n      <td>0.0</td>\n      <td>0.0</td>\n      <td>0.0</td>\n      <td>0.0</td>\n      <td>0.0</td>\n      <td>0.0</td>\n      <td>0.0</td>\n      <td>0.0</td>\n      <td>0</td>\n      <td>0</td>\n    </tr>\n    <tr>\n      <th>3</th>\n      <td>1994</td>\n      <td>0.0</td>\n      <td>99.30</td>\n      <td>0.0</td>\n      <td>0.0</td>\n      <td>0.0</td>\n      <td>0.0</td>\n      <td>0.0</td>\n      <td>0.0</td>\n      <td>0.0</td>\n      <td>0.0</td>\n      <td>0.0</td>\n      <td>0.0</td>\n      <td>0.0</td>\n      <td>0.0</td>\n      <td>0.0</td>\n      <td>0</td>\n      <td>0</td>\n    </tr>\n    <tr>\n      <th>4</th>\n      <td>1995</td>\n      <td>0.0</td>\n      <td>115.81</td>\n      <td>0.0</td>\n      <td>0.0</td>\n      <td>0.0</td>\n      <td>0.0</td>\n      <td>0.0</td>\n      <td>0.0</td>\n      <td>0.0</td>\n      <td>0.0</td>\n      <td>0.0</td>\n      <td>0.0</td>\n      <td>0.0</td>\n      <td>0.0</td>\n      <td>0.0</td>\n      <td>0</td>\n      <td>0</td>\n    </tr>\n  </tbody>\n</table>\n</div>"
     },
     "execution_count": 2,
     "metadata": {},
     "output_type": "execute_result"
    }
   ],
   "source": [
    "# Load 4 datasets (3 will merge to make ESG dataset, 1 commodities metal dataset)\n",
    "esg = pd.read_csv(\"data/ESG World Bank Data/esg_data.csv\")\n",
    "environ = pd.read_csv(\"data/World Bank Environmental Data/environment.csv\", skiprows=3)\n",
    "metals = pd.read_csv(\"data/Commodities IMF Data/commodities_IMF.csv\")\n",
    "carbon = pd.read_csv(\"data/ESG World Bank Data/global_carbon_prices.csv\")\n",
    "\n",
    "carbon.head()"
   ],
   "metadata": {
    "collapsed": false,
    "ExecuteTime": {
     "end_time": "2025-03-05T02:49:57.514142Z",
     "start_time": "2025-03-05T02:49:56.940103Z"
    }
   },
   "id": "5a8207a6c0894ab1",
   "execution_count": 2
  },
  {
   "cell_type": "code",
   "outputs": [
    {
     "data": {
      "text/plain": "     Country Name Country Code  \\\n1973    Australia          AUS   \n1974    Australia          AUS   \n1975    Australia          AUS   \n2035    Australia          AUS   \n2036    Australia          AUS   \n\n                                         Indicator Name  Year         Value  \n1973           Total fisheries production (metric tons)  1960  6.134500e+04  \n1974         Capture fisheries production (metric tons)  1960  5.564500e+04  \n1975               Aquaculture production (metric tons)  1960  5.700000e+03  \n2035  Electricity production from renewable sources,...  1960  1.412653e+00  \n2036  Electricity production from renewable sources,...  1960  3.030000e+08  ",
      "text/html": "<div>\n<style scoped>\n    .dataframe tbody tr th:only-of-type {\n        vertical-align: middle;\n    }\n\n    .dataframe tbody tr th {\n        vertical-align: top;\n    }\n\n    .dataframe thead th {\n        text-align: right;\n    }\n</style>\n<table border=\"1\" class=\"dataframe\">\n  <thead>\n    <tr style=\"text-align: right;\">\n      <th></th>\n      <th>Country Name</th>\n      <th>Country Code</th>\n      <th>Indicator Name</th>\n      <th>Year</th>\n      <th>Value</th>\n    </tr>\n  </thead>\n  <tbody>\n    <tr>\n      <th>1973</th>\n      <td>Australia</td>\n      <td>AUS</td>\n      <td>Total fisheries production (metric tons)</td>\n      <td>1960</td>\n      <td>6.134500e+04</td>\n    </tr>\n    <tr>\n      <th>1974</th>\n      <td>Australia</td>\n      <td>AUS</td>\n      <td>Capture fisheries production (metric tons)</td>\n      <td>1960</td>\n      <td>5.564500e+04</td>\n    </tr>\n    <tr>\n      <th>1975</th>\n      <td>Australia</td>\n      <td>AUS</td>\n      <td>Aquaculture production (metric tons)</td>\n      <td>1960</td>\n      <td>5.700000e+03</td>\n    </tr>\n    <tr>\n      <th>2035</th>\n      <td>Australia</td>\n      <td>AUS</td>\n      <td>Electricity production from renewable sources,...</td>\n      <td>1960</td>\n      <td>1.412653e+00</td>\n    </tr>\n    <tr>\n      <th>2036</th>\n      <td>Australia</td>\n      <td>AUS</td>\n      <td>Electricity production from renewable sources,...</td>\n      <td>1960</td>\n      <td>3.030000e+08</td>\n    </tr>\n  </tbody>\n</table>\n</div>"
     },
     "execution_count": 3,
     "metadata": {},
     "output_type": "execute_result"
    }
   ],
   "source": [
    "# Reshape the ESG data into a long format\n",
    "esg = esg.drop(columns='Series Code')\n",
    "esg = esg.rename(columns={'Series Name': 'Indicator Name'})\n",
    "esg_long = esg.melt(\n",
    "    id_vars=['Country Name', 'Country Code', 'Indicator Name'],\n",
    "    var_name='Year',\n",
    "    value_name='Value'\n",
    ")\n",
    "# Clean the 'Year' column to extract the numeric year\n",
    "esg_long['Year'] = esg_long['Year'].str.extract(r'(\\d{4})')\n",
    "\n",
    "# Replace '..' with NaN to ensure missing values are correctly identified\n",
    "esg_long['Value'] = pd.to_numeric(esg_long['Value'], errors='coerce')\n",
    "esg_long.replace('..', pd.NA, inplace=True)\n",
    "esg_long = esg_long.dropna(subset=['Value'])\n",
    "\n",
    "# Select only the relevant countries (US, UK, China, EU countries: Germany, France, Netherlands, Sweden, etc.)\n",
    "relevant_countries = ['United States', 'United Kingdom', 'China', 'Germany', 'France', 'Norway', 'Canada', 'Japan', 'South Korea', 'Netherlands', 'Sweden', 'Australia']\n",
    "\n",
    "# Filter the ESG data\n",
    "esg_df = esg_long[esg_long['Country Name'].isin(relevant_countries)]\n",
    "\n",
    "# Environment dataset processing\n",
    "environ = environ.drop(columns='Indicator Code')\n",
    "environ_long = environ.melt(\n",
    "    id_vars=['Country Name', 'Country Code', 'Indicator Name'],\n",
    "    var_name='Year',\n",
    "    value_name='Value'\n",
    ")\n",
    "# Replace '..' with NaN to ensure missing values are correctly identified\n",
    "environ_long.replace('..', pd.NA, inplace=True)\n",
    "environ_long = environ_long.dropna(subset=['Value'])\n",
    "\n",
    "# Filter the Environmental data for the relevant countries\n",
    "environ_df = environ_long[environ_long['Country Name'].isin(relevant_countries)]\n",
    "\n",
    "# Print a summary of the filtered datasets\n",
    "esg_df.head()\n",
    "environ_df.head()"
   ],
   "metadata": {
    "collapsed": false,
    "ExecuteTime": {
     "end_time": "2025-03-05T02:50:00.451482Z",
     "start_time": "2025-03-05T02:49:58.353990Z"
    }
   },
   "id": "f216bebc9b9f25e1",
   "execution_count": 3
  },
  {
   "cell_type": "code",
   "outputs": [],
   "source": [
    "# For esg_df\n",
    "esg_indicators = ['Renewable energy consumption (% of total final energy consumption)',\n",
    "                  'Electricity production from coal sources (% of total)', \n",
    "                  'PM2.5 air pollution, mean annual exposure (micrograms per cubic meter)',\n",
    "                  'Regulatory Quality: Estimate',\n",
    "                  'Research and development expenditure (% of GDP)', \n",
    "                  'Gini index',\n",
    "                  'Patent applications, residents'] \n",
    "# For environ_df\n",
    "environ_indicators = ['Nitrous oxide (N2O) emissions from Transport (Energy) (Mt CO2e)'] \n",
    "\n",
    "# EXCLUDED FOR NOW\n",
    "\n",
    "# environ_indicators = 'Carbon dioxide (CO2) emissions from Transport (Energy) (Mt CO2e)',\n",
    "                        # 'Methane (CH4) emissions from Transport (Energy) (Mt CO2e)'\n",
    "                        \n",
    "# esg_indicators = 'Political Stability and Absence of Violence/Terrorism: Estimate',\n",
    "                   # 'Renewable electricity output (% of total electricity output)', \n",
    "                   # 'Methane emissions (metric tons of CO2 equivalent per capita)', \n",
    "                  #'Net migration',\n",
    "                  # 'Renewable electricity output (% of total electricity output)', \n",
    "                  #'Population density (people per sq. km of land area)', 'GDP growth (annual %)', \n"
   ],
   "metadata": {
    "collapsed": false,
    "ExecuteTime": {
     "end_time": "2025-03-05T02:50:02.929932Z",
     "start_time": "2025-03-05T02:50:02.926308Z"
    }
   },
   "id": "edd425662c53d332",
   "execution_count": 4
  },
  {
   "cell_type": "code",
   "outputs": [
    {
     "data": {
      "text/plain": "       Country Name Country Code  \\\n2243      Australia          AUS   \n2254      Australia          AUS   \n2265      Australia          AUS   \n2276      Australia          AUS   \n0         Australia          AUS   \n...             ...          ...   \n2230  United States          USA   \n2231  United States          USA   \n2825  United States          USA   \n2242  United States          USA   \n2836  United States          USA   \n\n                                         Indicator Name  Year      Value  \n2243  Nitrous oxide (N2O) emissions from Transport (...  1970   0.405900  \n2254  Nitrous oxide (N2O) emissions from Transport (...  1971   0.403700  \n2265  Nitrous oxide (N2O) emissions from Transport (...  1972   0.420500  \n2276  Nitrous oxide (N2O) emissions from Transport (...  1973   0.488100  \n0     Electricity production from coal sources (% of...  1974  67.782998  \n...                                                 ...   ...        ...  \n2230                       Regulatory Quality: Estimate  2021   1.440957  \n2231    Research and development expenditure (% of GDP)  2021   3.457050  \n2825  Nitrous oxide (N2O) emissions from Transport (...  2022  21.367400  \n2242                       Regulatory Quality: Estimate  2022   1.424440  \n2836  Nitrous oxide (N2O) emissions from Transport (...  2023  21.643100  \n\n[2837 rows x 5 columns]",
      "text/html": "<div>\n<style scoped>\n    .dataframe tbody tr th:only-of-type {\n        vertical-align: middle;\n    }\n\n    .dataframe tbody tr th {\n        vertical-align: top;\n    }\n\n    .dataframe thead th {\n        text-align: right;\n    }\n</style>\n<table border=\"1\" class=\"dataframe\">\n  <thead>\n    <tr style=\"text-align: right;\">\n      <th></th>\n      <th>Country Name</th>\n      <th>Country Code</th>\n      <th>Indicator Name</th>\n      <th>Year</th>\n      <th>Value</th>\n    </tr>\n  </thead>\n  <tbody>\n    <tr>\n      <th>2243</th>\n      <td>Australia</td>\n      <td>AUS</td>\n      <td>Nitrous oxide (N2O) emissions from Transport (...</td>\n      <td>1970</td>\n      <td>0.405900</td>\n    </tr>\n    <tr>\n      <th>2254</th>\n      <td>Australia</td>\n      <td>AUS</td>\n      <td>Nitrous oxide (N2O) emissions from Transport (...</td>\n      <td>1971</td>\n      <td>0.403700</td>\n    </tr>\n    <tr>\n      <th>2265</th>\n      <td>Australia</td>\n      <td>AUS</td>\n      <td>Nitrous oxide (N2O) emissions from Transport (...</td>\n      <td>1972</td>\n      <td>0.420500</td>\n    </tr>\n    <tr>\n      <th>2276</th>\n      <td>Australia</td>\n      <td>AUS</td>\n      <td>Nitrous oxide (N2O) emissions from Transport (...</td>\n      <td>1973</td>\n      <td>0.488100</td>\n    </tr>\n    <tr>\n      <th>0</th>\n      <td>Australia</td>\n      <td>AUS</td>\n      <td>Electricity production from coal sources (% of...</td>\n      <td>1974</td>\n      <td>67.782998</td>\n    </tr>\n    <tr>\n      <th>...</th>\n      <td>...</td>\n      <td>...</td>\n      <td>...</td>\n      <td>...</td>\n      <td>...</td>\n    </tr>\n    <tr>\n      <th>2230</th>\n      <td>United States</td>\n      <td>USA</td>\n      <td>Regulatory Quality: Estimate</td>\n      <td>2021</td>\n      <td>1.440957</td>\n    </tr>\n    <tr>\n      <th>2231</th>\n      <td>United States</td>\n      <td>USA</td>\n      <td>Research and development expenditure (% of GDP)</td>\n      <td>2021</td>\n      <td>3.457050</td>\n    </tr>\n    <tr>\n      <th>2825</th>\n      <td>United States</td>\n      <td>USA</td>\n      <td>Nitrous oxide (N2O) emissions from Transport (...</td>\n      <td>2022</td>\n      <td>21.367400</td>\n    </tr>\n    <tr>\n      <th>2242</th>\n      <td>United States</td>\n      <td>USA</td>\n      <td>Regulatory Quality: Estimate</td>\n      <td>2022</td>\n      <td>1.424440</td>\n    </tr>\n    <tr>\n      <th>2836</th>\n      <td>United States</td>\n      <td>USA</td>\n      <td>Nitrous oxide (N2O) emissions from Transport (...</td>\n      <td>2023</td>\n      <td>21.643100</td>\n    </tr>\n  </tbody>\n</table>\n<p>2837 rows × 5 columns</p>\n</div>"
     },
     "execution_count": 5,
     "metadata": {},
     "output_type": "execute_result"
    }
   ],
   "source": [
    "# Filter the ESG data for relevant indicators\n",
    "esg_df = esg_df[esg_df['Indicator Name'].isin(esg_indicators)]\n",
    "\n",
    "# Filter the Environmental data for relevant indicators\n",
    "environ_df = environ_df[environ_df['Indicator Name'].isin(environ_indicators)]\n",
    "\n",
    "# Combine the ESG and Environmental datasets\n",
    "combined_df = pd.concat([esg_df, environ_df], ignore_index=True)\n",
    "\n",
    "# Sort the data for better readability\n",
    "esg_df = combined_df.sort_values(by=['Country Name', 'Year', 'Indicator Name'])\n",
    "esg_df"
   ],
   "metadata": {
    "collapsed": false,
    "ExecuteTime": {
     "end_time": "2025-03-05T02:50:04.882218Z",
     "start_time": "2025-03-05T02:50:04.862857Z"
    }
   },
   "id": "c6cca0f90fc3d85e",
   "execution_count": 5
  },
  {
   "cell_type": "code",
   "outputs": [
    {
     "data": {
      "text/plain": "     Commodity Name Commodity Code   Unit Name       Date         Value\n2           Nickel           PNICK  US Dollars 1990-01-01   7056.000000\n5          Aluminum          PALUM  US Dollars 1990-01-01   1528.000000\n10          Nickel           PNICK  US Dollars 1990-02-01   6977.000000\n13         Aluminum          PALUM  US Dollars 1990-02-01   1454.000000\n18          Nickel           PNICK  US Dollars 1990-03-01   9267.000000\n...             ...            ...         ...        ...           ...\n3947       Aluminum          PALUM  US Dollars 2024-12-01   2540.882273\n3948        Lithium          PLITH  US Dollars 2024-12-01  96533.880271\n3956        Nickel           PNICK  US Dollars 2025-01-01  15374.060870\n3959       Aluminum          PALUM  US Dollars 2025-01-01   2571.370435\n3960        Lithium          PLITH  US Dollars 2025-01-01  91267.271203\n\n[994 rows x 5 columns]",
      "text/html": "<div>\n<style scoped>\n    .dataframe tbody tr th:only-of-type {\n        vertical-align: middle;\n    }\n\n    .dataframe tbody tr th {\n        vertical-align: top;\n    }\n\n    .dataframe thead th {\n        text-align: right;\n    }\n</style>\n<table border=\"1\" class=\"dataframe\">\n  <thead>\n    <tr style=\"text-align: right;\">\n      <th></th>\n      <th>Commodity Name</th>\n      <th>Commodity Code</th>\n      <th>Unit Name</th>\n      <th>Date</th>\n      <th>Value</th>\n    </tr>\n  </thead>\n  <tbody>\n    <tr>\n      <th>2</th>\n      <td>Nickel</td>\n      <td>PNICK</td>\n      <td>US Dollars</td>\n      <td>1990-01-01</td>\n      <td>7056.000000</td>\n    </tr>\n    <tr>\n      <th>5</th>\n      <td>Aluminum</td>\n      <td>PALUM</td>\n      <td>US Dollars</td>\n      <td>1990-01-01</td>\n      <td>1528.000000</td>\n    </tr>\n    <tr>\n      <th>10</th>\n      <td>Nickel</td>\n      <td>PNICK</td>\n      <td>US Dollars</td>\n      <td>1990-02-01</td>\n      <td>6977.000000</td>\n    </tr>\n    <tr>\n      <th>13</th>\n      <td>Aluminum</td>\n      <td>PALUM</td>\n      <td>US Dollars</td>\n      <td>1990-02-01</td>\n      <td>1454.000000</td>\n    </tr>\n    <tr>\n      <th>18</th>\n      <td>Nickel</td>\n      <td>PNICK</td>\n      <td>US Dollars</td>\n      <td>1990-03-01</td>\n      <td>9267.000000</td>\n    </tr>\n    <tr>\n      <th>...</th>\n      <td>...</td>\n      <td>...</td>\n      <td>...</td>\n      <td>...</td>\n      <td>...</td>\n    </tr>\n    <tr>\n      <th>3947</th>\n      <td>Aluminum</td>\n      <td>PALUM</td>\n      <td>US Dollars</td>\n      <td>2024-12-01</td>\n      <td>2540.882273</td>\n    </tr>\n    <tr>\n      <th>3948</th>\n      <td>Lithium</td>\n      <td>PLITH</td>\n      <td>US Dollars</td>\n      <td>2024-12-01</td>\n      <td>96533.880271</td>\n    </tr>\n    <tr>\n      <th>3956</th>\n      <td>Nickel</td>\n      <td>PNICK</td>\n      <td>US Dollars</td>\n      <td>2025-01-01</td>\n      <td>15374.060870</td>\n    </tr>\n    <tr>\n      <th>3959</th>\n      <td>Aluminum</td>\n      <td>PALUM</td>\n      <td>US Dollars</td>\n      <td>2025-01-01</td>\n      <td>2571.370435</td>\n    </tr>\n    <tr>\n      <th>3960</th>\n      <td>Lithium</td>\n      <td>PLITH</td>\n      <td>US Dollars</td>\n      <td>2025-01-01</td>\n      <td>91267.271203</td>\n    </tr>\n  </tbody>\n</table>\n<p>994 rows × 5 columns</p>\n</div>"
     },
     "execution_count": 6,
     "metadata": {},
     "output_type": "execute_result"
    }
   ],
   "source": [
    "# Drop unnecessary columns\n",
    "metals = metals.drop(columns=[\"Unnamed: 428\", \"Country Name\", \"Country Code\", \"Unit Code\", \"Attribute\"], errors=\"ignore\")\n",
    "\n",
    "# Remove duplicates\n",
    "metals = metals.drop_duplicates().reset_index(drop=True)\n",
    "\n",
    "# Reshape Data to Long Format\n",
    "metals = metals.melt(id_vars=[\"Commodity Name\", \"Commodity Code\", \"Unit Name\"], \n",
    "                      var_name=\"Date\", value_name=\"Value\")\n",
    "\n",
    "# Convert Date Column to datetime format\n",
    "metals[\"Date\"] = pd.to_datetime(metals[\"Date\"].str.replace(\"M\", \"-\", regex=False), format=\"%Y-%m\")\n",
    "\n",
    "# Handle missing values\n",
    "metals = metals.dropna(subset=[\"Value\"])\n",
    "\n",
    "# Convert Value column to numeric\n",
    "metals[\"Value\"] = pd.to_numeric(metals[\"Value\"], errors=\"coerce\")\n",
    "\n",
    "# Reset index after transformations\n",
    "metals = metals.reset_index(drop=True)\n",
    "metals = metals[metals['Unit Name'] == 'US Dollars']\n",
    "metals"
   ],
   "metadata": {
    "collapsed": false,
    "ExecuteTime": {
     "end_time": "2025-03-05T02:50:07.096301Z",
     "start_time": "2025-03-05T02:50:07.070843Z"
    }
   },
   "id": "7093932c01ad851d",
   "execution_count": 6
  },
  {
   "cell_type": "code",
   "outputs": [
    {
     "data": {
      "text/plain": "Commodity Name       Date     Aluminum       Lithium       Nickel \n0              2010-06-01  1929.409091           NaN  19411.295455\n1              2010-06-02  1929.409091           NaN  19411.295455\n2              2010-06-03  1929.409091           NaN  19411.295455\n3              2010-06-04  1929.409091           NaN  19411.295455\n4              2010-06-05  1929.409091           NaN  19411.295455\n...                   ...          ...           ...           ...\n5324           2024-12-28  2540.882273  96533.880271  15438.656364\n5325           2024-12-29  2540.882273  96533.880271  15438.656364\n5326           2024-12-30  2540.882273  96533.880271  15438.656364\n5327           2024-12-31  2540.882273  96533.880271  15438.656364\n5328           2025-01-01  2571.370435  91267.271203  15374.060870\n\n[5329 rows x 4 columns]",
      "text/html": "<div>\n<style scoped>\n    .dataframe tbody tr th:only-of-type {\n        vertical-align: middle;\n    }\n\n    .dataframe tbody tr th {\n        vertical-align: top;\n    }\n\n    .dataframe thead th {\n        text-align: right;\n    }\n</style>\n<table border=\"1\" class=\"dataframe\">\n  <thead>\n    <tr style=\"text-align: right;\">\n      <th>Commodity Name</th>\n      <th>Date</th>\n      <th>Aluminum</th>\n      <th>Lithium</th>\n      <th>Nickel</th>\n    </tr>\n  </thead>\n  <tbody>\n    <tr>\n      <th>0</th>\n      <td>2010-06-01</td>\n      <td>1929.409091</td>\n      <td>NaN</td>\n      <td>19411.295455</td>\n    </tr>\n    <tr>\n      <th>1</th>\n      <td>2010-06-02</td>\n      <td>1929.409091</td>\n      <td>NaN</td>\n      <td>19411.295455</td>\n    </tr>\n    <tr>\n      <th>2</th>\n      <td>2010-06-03</td>\n      <td>1929.409091</td>\n      <td>NaN</td>\n      <td>19411.295455</td>\n    </tr>\n    <tr>\n      <th>3</th>\n      <td>2010-06-04</td>\n      <td>1929.409091</td>\n      <td>NaN</td>\n      <td>19411.295455</td>\n    </tr>\n    <tr>\n      <th>4</th>\n      <td>2010-06-05</td>\n      <td>1929.409091</td>\n      <td>NaN</td>\n      <td>19411.295455</td>\n    </tr>\n    <tr>\n      <th>...</th>\n      <td>...</td>\n      <td>...</td>\n      <td>...</td>\n      <td>...</td>\n    </tr>\n    <tr>\n      <th>5324</th>\n      <td>2024-12-28</td>\n      <td>2540.882273</td>\n      <td>96533.880271</td>\n      <td>15438.656364</td>\n    </tr>\n    <tr>\n      <th>5325</th>\n      <td>2024-12-29</td>\n      <td>2540.882273</td>\n      <td>96533.880271</td>\n      <td>15438.656364</td>\n    </tr>\n    <tr>\n      <th>5326</th>\n      <td>2024-12-30</td>\n      <td>2540.882273</td>\n      <td>96533.880271</td>\n      <td>15438.656364</td>\n    </tr>\n    <tr>\n      <th>5327</th>\n      <td>2024-12-31</td>\n      <td>2540.882273</td>\n      <td>96533.880271</td>\n      <td>15438.656364</td>\n    </tr>\n    <tr>\n      <th>5328</th>\n      <td>2025-01-01</td>\n      <td>2571.370435</td>\n      <td>91267.271203</td>\n      <td>15374.060870</td>\n    </tr>\n  </tbody>\n</table>\n<p>5329 rows × 4 columns</p>\n</div>"
     },
     "execution_count": 7,
     "metadata": {},
     "output_type": "execute_result"
    }
   ],
   "source": [
    "# Convert Date column to datetime format\n",
    "metals[\"Date\"] = pd.to_datetime(metals[\"Date\"])\n",
    "\n",
    "# Pivot so each commodity is a column\n",
    "metals_pivot = metals.pivot(index=\"Date\", columns=\"Commodity Name\", values=\"Value\")\n",
    "\n",
    "# Resample to daily frequency and forward-fill missing values\n",
    "metals_daily = metals_pivot.resample(\"D\").ffill()\n",
    "\n",
    "# Filter only data from June 2010 onward\n",
    "metals_daily = metals_daily.loc[\"2010-06-01\":].reset_index()\n",
    "\n",
    "metals_daily"
   ],
   "metadata": {
    "collapsed": false,
    "ExecuteTime": {
     "end_time": "2025-03-05T02:50:11.244290Z",
     "start_time": "2025-03-05T02:50:11.205282Z"
    }
   },
   "id": "d3d0ccd446f6cc7b",
   "execution_count": 7
  },
  {
   "cell_type": "code",
   "outputs": [
    {
     "ename": "TypeError",
     "evalue": "Only valid with DatetimeIndex, TimedeltaIndex or PeriodIndex, but got an instance of 'MultiIndex'",
     "output_type": "error",
     "traceback": [
      "\u001B[0;31m---------------------------------------------------------------------------\u001B[0m",
      "\u001B[0;31mTypeError\u001B[0m                                 Traceback (most recent call last)",
      "File \u001B[0;32m~/miniconda3/lib/python3.11/site-packages/pandas/core/groupby/groupby.py:1824\u001B[0m, in \u001B[0;36mGroupBy.apply\u001B[0;34m(self, func, include_groups, *args, **kwargs)\u001B[0m\n\u001B[1;32m   1823\u001B[0m \u001B[38;5;28;01mtry\u001B[39;00m:\n\u001B[0;32m-> 1824\u001B[0m     result \u001B[38;5;241m=\u001B[39m \u001B[38;5;28;43mself\u001B[39;49m\u001B[38;5;241;43m.\u001B[39;49m\u001B[43m_python_apply_general\u001B[49m\u001B[43m(\u001B[49m\u001B[43mf\u001B[49m\u001B[43m,\u001B[49m\u001B[43m \u001B[49m\u001B[38;5;28;43mself\u001B[39;49m\u001B[38;5;241;43m.\u001B[39;49m\u001B[43m_selected_obj\u001B[49m\u001B[43m)\u001B[49m\n\u001B[1;32m   1825\u001B[0m     \u001B[38;5;28;01mif\u001B[39;00m (\n\u001B[1;32m   1826\u001B[0m         \u001B[38;5;129;01mnot\u001B[39;00m \u001B[38;5;28misinstance\u001B[39m(\u001B[38;5;28mself\u001B[39m\u001B[38;5;241m.\u001B[39mobj, Series)\n\u001B[1;32m   1827\u001B[0m         \u001B[38;5;129;01mand\u001B[39;00m \u001B[38;5;28mself\u001B[39m\u001B[38;5;241m.\u001B[39m_selection \u001B[38;5;129;01mis\u001B[39;00m \u001B[38;5;28;01mNone\u001B[39;00m\n\u001B[1;32m   1828\u001B[0m         \u001B[38;5;129;01mand\u001B[39;00m \u001B[38;5;28mself\u001B[39m\u001B[38;5;241m.\u001B[39m_selected_obj\u001B[38;5;241m.\u001B[39mshape \u001B[38;5;241m!=\u001B[39m \u001B[38;5;28mself\u001B[39m\u001B[38;5;241m.\u001B[39m_obj_with_exclusions\u001B[38;5;241m.\u001B[39mshape\n\u001B[1;32m   1829\u001B[0m     ):\n",
      "File \u001B[0;32m~/miniconda3/lib/python3.11/site-packages/pandas/core/groupby/groupby.py:1885\u001B[0m, in \u001B[0;36mGroupBy._python_apply_general\u001B[0;34m(self, f, data, not_indexed_same, is_transform, is_agg)\u001B[0m\n\u001B[1;32m   1859\u001B[0m \u001B[38;5;250m\u001B[39m\u001B[38;5;124;03m\"\"\"\u001B[39;00m\n\u001B[1;32m   1860\u001B[0m \u001B[38;5;124;03mApply function f in python space\u001B[39;00m\n\u001B[1;32m   1861\u001B[0m \n\u001B[0;32m   (...)\u001B[0m\n\u001B[1;32m   1883\u001B[0m \u001B[38;5;124;03m    data after applying f\u001B[39;00m\n\u001B[1;32m   1884\u001B[0m \u001B[38;5;124;03m\"\"\"\u001B[39;00m\n\u001B[0;32m-> 1885\u001B[0m values, mutated \u001B[38;5;241m=\u001B[39m \u001B[38;5;28;43mself\u001B[39;49m\u001B[38;5;241;43m.\u001B[39;49m\u001B[43m_grouper\u001B[49m\u001B[38;5;241;43m.\u001B[39;49m\u001B[43mapply_groupwise\u001B[49m\u001B[43m(\u001B[49m\u001B[43mf\u001B[49m\u001B[43m,\u001B[49m\u001B[43m \u001B[49m\u001B[43mdata\u001B[49m\u001B[43m,\u001B[49m\u001B[43m \u001B[49m\u001B[38;5;28;43mself\u001B[39;49m\u001B[38;5;241;43m.\u001B[39;49m\u001B[43maxis\u001B[49m\u001B[43m)\u001B[49m\n\u001B[1;32m   1886\u001B[0m \u001B[38;5;28;01mif\u001B[39;00m not_indexed_same \u001B[38;5;129;01mis\u001B[39;00m \u001B[38;5;28;01mNone\u001B[39;00m:\n",
      "File \u001B[0;32m~/miniconda3/lib/python3.11/site-packages/pandas/core/groupby/ops.py:919\u001B[0m, in \u001B[0;36mBaseGrouper.apply_groupwise\u001B[0;34m(self, f, data, axis)\u001B[0m\n\u001B[1;32m    918\u001B[0m group_axes \u001B[38;5;241m=\u001B[39m group\u001B[38;5;241m.\u001B[39maxes\n\u001B[0;32m--> 919\u001B[0m res \u001B[38;5;241m=\u001B[39m \u001B[43mf\u001B[49m\u001B[43m(\u001B[49m\u001B[43mgroup\u001B[49m\u001B[43m)\u001B[49m\n\u001B[1;32m    920\u001B[0m \u001B[38;5;28;01mif\u001B[39;00m \u001B[38;5;129;01mnot\u001B[39;00m mutated \u001B[38;5;129;01mand\u001B[39;00m \u001B[38;5;129;01mnot\u001B[39;00m _is_indexed_like(res, group_axes, axis):\n",
      "Cell \u001B[0;32mIn[8], line 10\u001B[0m, in \u001B[0;36m<lambda>\u001B[0;34m(x)\u001B[0m\n\u001B[1;32m      9\u001B[0m \u001B[38;5;66;03m# Resample to daily frequency and forward-fill missing values\u001B[39;00m\n\u001B[0;32m---> 10\u001B[0m esg_daily \u001B[38;5;241m=\u001B[39m esg_pivot\u001B[38;5;241m.\u001B[39mgroupby(level\u001B[38;5;241m=\u001B[39m\u001B[38;5;124m\"\u001B[39m\u001B[38;5;124mCountry Name\u001B[39m\u001B[38;5;124m\"\u001B[39m)\u001B[38;5;241m.\u001B[39mapply(\u001B[38;5;28;01mlambda\u001B[39;00m x: \u001B[43mx\u001B[49m\u001B[38;5;241;43m.\u001B[39;49m\u001B[43mresample\u001B[49m\u001B[43m(\u001B[49m\u001B[38;5;124;43m\"\u001B[39;49m\u001B[38;5;124;43mD\u001B[39;49m\u001B[38;5;124;43m\"\u001B[39;49m\u001B[43m)\u001B[49m\u001B[38;5;241m.\u001B[39mffill())\u001B[38;5;241m.\u001B[39mreset_index()\n\u001B[1;32m     12\u001B[0m \u001B[38;5;66;03m# Filter only data from June 2010 onward\u001B[39;00m\n",
      "File \u001B[0;32m~/miniconda3/lib/python3.11/site-packages/pandas/core/generic.py:9771\u001B[0m, in \u001B[0;36mNDFrame.resample\u001B[0;34m(self, rule, axis, closed, label, convention, kind, on, level, origin, offset, group_keys)\u001B[0m\n\u001B[1;32m   9769\u001B[0m     convention \u001B[38;5;241m=\u001B[39m \u001B[38;5;124m\"\u001B[39m\u001B[38;5;124mstart\u001B[39m\u001B[38;5;124m\"\u001B[39m\n\u001B[0;32m-> 9771\u001B[0m \u001B[38;5;28;01mreturn\u001B[39;00m \u001B[43mget_resampler\u001B[49m\u001B[43m(\u001B[49m\n\u001B[1;32m   9772\u001B[0m \u001B[43m    \u001B[49m\u001B[43mcast\u001B[49m\u001B[43m(\u001B[49m\u001B[38;5;124;43m\"\u001B[39;49m\u001B[38;5;124;43mSeries | DataFrame\u001B[39;49m\u001B[38;5;124;43m\"\u001B[39;49m\u001B[43m,\u001B[49m\u001B[43m \u001B[49m\u001B[38;5;28;43mself\u001B[39;49m\u001B[43m)\u001B[49m\u001B[43m,\u001B[49m\n\u001B[1;32m   9773\u001B[0m \u001B[43m    \u001B[49m\u001B[43mfreq\u001B[49m\u001B[38;5;241;43m=\u001B[39;49m\u001B[43mrule\u001B[49m\u001B[43m,\u001B[49m\n\u001B[1;32m   9774\u001B[0m \u001B[43m    \u001B[49m\u001B[43mlabel\u001B[49m\u001B[38;5;241;43m=\u001B[39;49m\u001B[43mlabel\u001B[49m\u001B[43m,\u001B[49m\n\u001B[1;32m   9775\u001B[0m \u001B[43m    \u001B[49m\u001B[43mclosed\u001B[49m\u001B[38;5;241;43m=\u001B[39;49m\u001B[43mclosed\u001B[49m\u001B[43m,\u001B[49m\n\u001B[1;32m   9776\u001B[0m \u001B[43m    \u001B[49m\u001B[43maxis\u001B[49m\u001B[38;5;241;43m=\u001B[39;49m\u001B[43maxis\u001B[49m\u001B[43m,\u001B[49m\n\u001B[1;32m   9777\u001B[0m \u001B[43m    \u001B[49m\u001B[43mkind\u001B[49m\u001B[38;5;241;43m=\u001B[39;49m\u001B[43mkind\u001B[49m\u001B[43m,\u001B[49m\n\u001B[1;32m   9778\u001B[0m \u001B[43m    \u001B[49m\u001B[43mconvention\u001B[49m\u001B[38;5;241;43m=\u001B[39;49m\u001B[43mconvention\u001B[49m\u001B[43m,\u001B[49m\n\u001B[1;32m   9779\u001B[0m \u001B[43m    \u001B[49m\u001B[43mkey\u001B[49m\u001B[38;5;241;43m=\u001B[39;49m\u001B[43mon\u001B[49m\u001B[43m,\u001B[49m\n\u001B[1;32m   9780\u001B[0m \u001B[43m    \u001B[49m\u001B[43mlevel\u001B[49m\u001B[38;5;241;43m=\u001B[39;49m\u001B[43mlevel\u001B[49m\u001B[43m,\u001B[49m\n\u001B[1;32m   9781\u001B[0m \u001B[43m    \u001B[49m\u001B[43morigin\u001B[49m\u001B[38;5;241;43m=\u001B[39;49m\u001B[43morigin\u001B[49m\u001B[43m,\u001B[49m\n\u001B[1;32m   9782\u001B[0m \u001B[43m    \u001B[49m\u001B[43moffset\u001B[49m\u001B[38;5;241;43m=\u001B[39;49m\u001B[43moffset\u001B[49m\u001B[43m,\u001B[49m\n\u001B[1;32m   9783\u001B[0m \u001B[43m    \u001B[49m\u001B[43mgroup_keys\u001B[49m\u001B[38;5;241;43m=\u001B[39;49m\u001B[43mgroup_keys\u001B[49m\u001B[43m,\u001B[49m\n\u001B[1;32m   9784\u001B[0m \u001B[43m\u001B[49m\u001B[43m)\u001B[49m\n",
      "File \u001B[0;32m~/miniconda3/lib/python3.11/site-packages/pandas/core/resample.py:2050\u001B[0m, in \u001B[0;36mget_resampler\u001B[0;34m(obj, kind, **kwds)\u001B[0m\n\u001B[1;32m   2049\u001B[0m tg \u001B[38;5;241m=\u001B[39m TimeGrouper(obj, \u001B[38;5;241m*\u001B[39m\u001B[38;5;241m*\u001B[39mkwds)  \u001B[38;5;66;03m# type: ignore[arg-type]\u001B[39;00m\n\u001B[0;32m-> 2050\u001B[0m \u001B[38;5;28;01mreturn\u001B[39;00m \u001B[43mtg\u001B[49m\u001B[38;5;241;43m.\u001B[39;49m\u001B[43m_get_resampler\u001B[49m\u001B[43m(\u001B[49m\u001B[43mobj\u001B[49m\u001B[43m,\u001B[49m\u001B[43m \u001B[49m\u001B[43mkind\u001B[49m\u001B[38;5;241;43m=\u001B[39;49m\u001B[43mkind\u001B[49m\u001B[43m)\u001B[49m\n",
      "File \u001B[0;32m~/miniconda3/lib/python3.11/site-packages/pandas/core/resample.py:2272\u001B[0m, in \u001B[0;36mTimeGrouper._get_resampler\u001B[0;34m(self, obj, kind)\u001B[0m\n\u001B[1;32m   2264\u001B[0m     \u001B[38;5;28;01mreturn\u001B[39;00m TimedeltaIndexResampler(\n\u001B[1;32m   2265\u001B[0m         obj,\n\u001B[1;32m   2266\u001B[0m         timegrouper\u001B[38;5;241m=\u001B[39m\u001B[38;5;28mself\u001B[39m,\n\u001B[0;32m   (...)\u001B[0m\n\u001B[1;32m   2269\u001B[0m         gpr_index\u001B[38;5;241m=\u001B[39max,\n\u001B[1;32m   2270\u001B[0m     )\n\u001B[0;32m-> 2272\u001B[0m \u001B[38;5;28;01mraise\u001B[39;00m \u001B[38;5;167;01mTypeError\u001B[39;00m(\n\u001B[1;32m   2273\u001B[0m     \u001B[38;5;124m\"\u001B[39m\u001B[38;5;124mOnly valid with DatetimeIndex, \u001B[39m\u001B[38;5;124m\"\u001B[39m\n\u001B[1;32m   2274\u001B[0m     \u001B[38;5;124m\"\u001B[39m\u001B[38;5;124mTimedeltaIndex or PeriodIndex, \u001B[39m\u001B[38;5;124m\"\u001B[39m\n\u001B[1;32m   2275\u001B[0m     \u001B[38;5;124mf\u001B[39m\u001B[38;5;124m\"\u001B[39m\u001B[38;5;124mbut got an instance of \u001B[39m\u001B[38;5;124m'\u001B[39m\u001B[38;5;132;01m{\u001B[39;00m\u001B[38;5;28mtype\u001B[39m(ax)\u001B[38;5;241m.\u001B[39m\u001B[38;5;18m__name__\u001B[39m\u001B[38;5;132;01m}\u001B[39;00m\u001B[38;5;124m'\u001B[39m\u001B[38;5;124m\"\u001B[39m\n\u001B[1;32m   2276\u001B[0m )\n",
      "\u001B[0;31mTypeError\u001B[0m: Only valid with DatetimeIndex, TimedeltaIndex or PeriodIndex, but got an instance of 'MultiIndex'",
      "\nDuring handling of the above exception, another exception occurred:\n",
      "\u001B[0;31mTypeError\u001B[0m                                 Traceback (most recent call last)",
      "Cell \u001B[0;32mIn[8], line 10\u001B[0m\n\u001B[1;32m      5\u001B[0m esg_pivot \u001B[38;5;241m=\u001B[39m esg_df\u001B[38;5;241m.\u001B[39mpivot_table(index\u001B[38;5;241m=\u001B[39m[\u001B[38;5;124m\"\u001B[39m\u001B[38;5;124mDate\u001B[39m\u001B[38;5;124m\"\u001B[39m, \u001B[38;5;124m\"\u001B[39m\u001B[38;5;124mCountry Name\u001B[39m\u001B[38;5;124m\"\u001B[39m], \n\u001B[1;32m      6\u001B[0m                                columns\u001B[38;5;241m=\u001B[39m\u001B[38;5;124m\"\u001B[39m\u001B[38;5;124mIndicator Name\u001B[39m\u001B[38;5;124m\"\u001B[39m, \n\u001B[1;32m      7\u001B[0m                                values\u001B[38;5;241m=\u001B[39m\u001B[38;5;124m\"\u001B[39m\u001B[38;5;124mValue\u001B[39m\u001B[38;5;124m\"\u001B[39m)\n\u001B[1;32m      9\u001B[0m \u001B[38;5;66;03m# Resample to daily frequency and forward-fill missing values\u001B[39;00m\n\u001B[0;32m---> 10\u001B[0m esg_daily \u001B[38;5;241m=\u001B[39m \u001B[43mesg_pivot\u001B[49m\u001B[38;5;241;43m.\u001B[39;49m\u001B[43mgroupby\u001B[49m\u001B[43m(\u001B[49m\u001B[43mlevel\u001B[49m\u001B[38;5;241;43m=\u001B[39;49m\u001B[38;5;124;43m\"\u001B[39;49m\u001B[38;5;124;43mCountry Name\u001B[39;49m\u001B[38;5;124;43m\"\u001B[39;49m\u001B[43m)\u001B[49m\u001B[38;5;241;43m.\u001B[39;49m\u001B[43mapply\u001B[49m\u001B[43m(\u001B[49m\u001B[38;5;28;43;01mlambda\u001B[39;49;00m\u001B[43m \u001B[49m\u001B[43mx\u001B[49m\u001B[43m:\u001B[49m\u001B[43m \u001B[49m\u001B[43mx\u001B[49m\u001B[38;5;241;43m.\u001B[39;49m\u001B[43mresample\u001B[49m\u001B[43m(\u001B[49m\u001B[38;5;124;43m\"\u001B[39;49m\u001B[38;5;124;43mD\u001B[39;49m\u001B[38;5;124;43m\"\u001B[39;49m\u001B[43m)\u001B[49m\u001B[38;5;241;43m.\u001B[39;49m\u001B[43mffill\u001B[49m\u001B[43m(\u001B[49m\u001B[43m)\u001B[49m\u001B[43m)\u001B[49m\u001B[38;5;241m.\u001B[39mreset_index()\n\u001B[1;32m     12\u001B[0m \u001B[38;5;66;03m# Filter only data from June 2010 onward\u001B[39;00m\n\u001B[1;32m     13\u001B[0m esg_daily \u001B[38;5;241m=\u001B[39m esg_daily[esg_daily[\u001B[38;5;124m\"\u001B[39m\u001B[38;5;124mDate\u001B[39m\u001B[38;5;124m\"\u001B[39m] \u001B[38;5;241m>\u001B[39m\u001B[38;5;241m=\u001B[39m \u001B[38;5;124m\"\u001B[39m\u001B[38;5;124m2010-06-01\u001B[39m\u001B[38;5;124m\"\u001B[39m]\n",
      "File \u001B[0;32m~/miniconda3/lib/python3.11/site-packages/pandas/core/groupby/groupby.py:1846\u001B[0m, in \u001B[0;36mGroupBy.apply\u001B[0;34m(self, func, include_groups, *args, **kwargs)\u001B[0m\n\u001B[1;32m   1830\u001B[0m             warnings\u001B[38;5;241m.\u001B[39mwarn(\n\u001B[1;32m   1831\u001B[0m                 message\u001B[38;5;241m=\u001B[39m_apply_groupings_depr\u001B[38;5;241m.\u001B[39mformat(\n\u001B[1;32m   1832\u001B[0m                     \u001B[38;5;28mtype\u001B[39m(\u001B[38;5;28mself\u001B[39m)\u001B[38;5;241m.\u001B[39m\u001B[38;5;18m__name__\u001B[39m, \u001B[38;5;124m\"\u001B[39m\u001B[38;5;124mapply\u001B[39m\u001B[38;5;124m\"\u001B[39m\n\u001B[0;32m   (...)\u001B[0m\n\u001B[1;32m   1835\u001B[0m                 stacklevel\u001B[38;5;241m=\u001B[39mfind_stack_level(),\n\u001B[1;32m   1836\u001B[0m             )\n\u001B[1;32m   1837\u001B[0m     \u001B[38;5;28;01mexcept\u001B[39;00m \u001B[38;5;167;01mTypeError\u001B[39;00m:\n\u001B[1;32m   1838\u001B[0m         \u001B[38;5;66;03m# gh-20949\u001B[39;00m\n\u001B[1;32m   1839\u001B[0m         \u001B[38;5;66;03m# try again, with .apply acting as a filtering\u001B[39;00m\n\u001B[0;32m   (...)\u001B[0m\n\u001B[1;32m   1843\u001B[0m         \u001B[38;5;66;03m# fails on *some* columns, e.g. a numeric operation\u001B[39;00m\n\u001B[1;32m   1844\u001B[0m         \u001B[38;5;66;03m# on a string grouper column\u001B[39;00m\n\u001B[0;32m-> 1846\u001B[0m         \u001B[38;5;28;01mreturn\u001B[39;00m \u001B[38;5;28;43mself\u001B[39;49m\u001B[38;5;241;43m.\u001B[39;49m\u001B[43m_python_apply_general\u001B[49m\u001B[43m(\u001B[49m\u001B[43mf\u001B[49m\u001B[43m,\u001B[49m\u001B[43m \u001B[49m\u001B[38;5;28;43mself\u001B[39;49m\u001B[38;5;241;43m.\u001B[39;49m\u001B[43m_obj_with_exclusions\u001B[49m\u001B[43m)\u001B[49m\n\u001B[1;32m   1848\u001B[0m \u001B[38;5;28;01mreturn\u001B[39;00m result\n",
      "File \u001B[0;32m~/miniconda3/lib/python3.11/site-packages/pandas/core/groupby/groupby.py:1885\u001B[0m, in \u001B[0;36mGroupBy._python_apply_general\u001B[0;34m(self, f, data, not_indexed_same, is_transform, is_agg)\u001B[0m\n\u001B[1;32m   1850\u001B[0m \u001B[38;5;129m@final\u001B[39m\n\u001B[1;32m   1851\u001B[0m \u001B[38;5;28;01mdef\u001B[39;00m \u001B[38;5;21m_python_apply_general\u001B[39m(\n\u001B[1;32m   1852\u001B[0m     \u001B[38;5;28mself\u001B[39m,\n\u001B[0;32m   (...)\u001B[0m\n\u001B[1;32m   1857\u001B[0m     is_agg: \u001B[38;5;28mbool\u001B[39m \u001B[38;5;241m=\u001B[39m \u001B[38;5;28;01mFalse\u001B[39;00m,\n\u001B[1;32m   1858\u001B[0m ) \u001B[38;5;241m-\u001B[39m\u001B[38;5;241m>\u001B[39m NDFrameT:\n\u001B[1;32m   1859\u001B[0m \u001B[38;5;250m    \u001B[39m\u001B[38;5;124;03m\"\"\"\u001B[39;00m\n\u001B[1;32m   1860\u001B[0m \u001B[38;5;124;03m    Apply function f in python space\u001B[39;00m\n\u001B[1;32m   1861\u001B[0m \n\u001B[0;32m   (...)\u001B[0m\n\u001B[1;32m   1883\u001B[0m \u001B[38;5;124;03m        data after applying f\u001B[39;00m\n\u001B[1;32m   1884\u001B[0m \u001B[38;5;124;03m    \"\"\"\u001B[39;00m\n\u001B[0;32m-> 1885\u001B[0m     values, mutated \u001B[38;5;241m=\u001B[39m \u001B[38;5;28;43mself\u001B[39;49m\u001B[38;5;241;43m.\u001B[39;49m\u001B[43m_grouper\u001B[49m\u001B[38;5;241;43m.\u001B[39;49m\u001B[43mapply_groupwise\u001B[49m\u001B[43m(\u001B[49m\u001B[43mf\u001B[49m\u001B[43m,\u001B[49m\u001B[43m \u001B[49m\u001B[43mdata\u001B[49m\u001B[43m,\u001B[49m\u001B[43m \u001B[49m\u001B[38;5;28;43mself\u001B[39;49m\u001B[38;5;241;43m.\u001B[39;49m\u001B[43maxis\u001B[49m\u001B[43m)\u001B[49m\n\u001B[1;32m   1886\u001B[0m     \u001B[38;5;28;01mif\u001B[39;00m not_indexed_same \u001B[38;5;129;01mis\u001B[39;00m \u001B[38;5;28;01mNone\u001B[39;00m:\n\u001B[1;32m   1887\u001B[0m         not_indexed_same \u001B[38;5;241m=\u001B[39m mutated\n",
      "File \u001B[0;32m~/miniconda3/lib/python3.11/site-packages/pandas/core/groupby/ops.py:919\u001B[0m, in \u001B[0;36mBaseGrouper.apply_groupwise\u001B[0;34m(self, f, data, axis)\u001B[0m\n\u001B[1;32m    917\u001B[0m \u001B[38;5;66;03m# group might be modified\u001B[39;00m\n\u001B[1;32m    918\u001B[0m group_axes \u001B[38;5;241m=\u001B[39m group\u001B[38;5;241m.\u001B[39maxes\n\u001B[0;32m--> 919\u001B[0m res \u001B[38;5;241m=\u001B[39m \u001B[43mf\u001B[49m\u001B[43m(\u001B[49m\u001B[43mgroup\u001B[49m\u001B[43m)\u001B[49m\n\u001B[1;32m    920\u001B[0m \u001B[38;5;28;01mif\u001B[39;00m \u001B[38;5;129;01mnot\u001B[39;00m mutated \u001B[38;5;129;01mand\u001B[39;00m \u001B[38;5;129;01mnot\u001B[39;00m _is_indexed_like(res, group_axes, axis):\n\u001B[1;32m    921\u001B[0m     mutated \u001B[38;5;241m=\u001B[39m \u001B[38;5;28;01mTrue\u001B[39;00m\n",
      "Cell \u001B[0;32mIn[8], line 10\u001B[0m, in \u001B[0;36m<lambda>\u001B[0;34m(x)\u001B[0m\n\u001B[1;32m      5\u001B[0m esg_pivot \u001B[38;5;241m=\u001B[39m esg_df\u001B[38;5;241m.\u001B[39mpivot_table(index\u001B[38;5;241m=\u001B[39m[\u001B[38;5;124m\"\u001B[39m\u001B[38;5;124mDate\u001B[39m\u001B[38;5;124m\"\u001B[39m, \u001B[38;5;124m\"\u001B[39m\u001B[38;5;124mCountry Name\u001B[39m\u001B[38;5;124m\"\u001B[39m], \n\u001B[1;32m      6\u001B[0m                                columns\u001B[38;5;241m=\u001B[39m\u001B[38;5;124m\"\u001B[39m\u001B[38;5;124mIndicator Name\u001B[39m\u001B[38;5;124m\"\u001B[39m, \n\u001B[1;32m      7\u001B[0m                                values\u001B[38;5;241m=\u001B[39m\u001B[38;5;124m\"\u001B[39m\u001B[38;5;124mValue\u001B[39m\u001B[38;5;124m\"\u001B[39m)\n\u001B[1;32m      9\u001B[0m \u001B[38;5;66;03m# Resample to daily frequency and forward-fill missing values\u001B[39;00m\n\u001B[0;32m---> 10\u001B[0m esg_daily \u001B[38;5;241m=\u001B[39m esg_pivot\u001B[38;5;241m.\u001B[39mgroupby(level\u001B[38;5;241m=\u001B[39m\u001B[38;5;124m\"\u001B[39m\u001B[38;5;124mCountry Name\u001B[39m\u001B[38;5;124m\"\u001B[39m)\u001B[38;5;241m.\u001B[39mapply(\u001B[38;5;28;01mlambda\u001B[39;00m x: \u001B[43mx\u001B[49m\u001B[38;5;241;43m.\u001B[39;49m\u001B[43mresample\u001B[49m\u001B[43m(\u001B[49m\u001B[38;5;124;43m\"\u001B[39;49m\u001B[38;5;124;43mD\u001B[39;49m\u001B[38;5;124;43m\"\u001B[39;49m\u001B[43m)\u001B[49m\u001B[38;5;241m.\u001B[39mffill())\u001B[38;5;241m.\u001B[39mreset_index()\n\u001B[1;32m     12\u001B[0m \u001B[38;5;66;03m# Filter only data from June 2010 onward\u001B[39;00m\n\u001B[1;32m     13\u001B[0m esg_daily \u001B[38;5;241m=\u001B[39m esg_daily[esg_daily[\u001B[38;5;124m\"\u001B[39m\u001B[38;5;124mDate\u001B[39m\u001B[38;5;124m\"\u001B[39m] \u001B[38;5;241m>\u001B[39m\u001B[38;5;241m=\u001B[39m \u001B[38;5;124m\"\u001B[39m\u001B[38;5;124m2010-06-01\u001B[39m\u001B[38;5;124m\"\u001B[39m]\n",
      "File \u001B[0;32m~/miniconda3/lib/python3.11/site-packages/pandas/core/generic.py:9771\u001B[0m, in \u001B[0;36mNDFrame.resample\u001B[0;34m(self, rule, axis, closed, label, convention, kind, on, level, origin, offset, group_keys)\u001B[0m\n\u001B[1;32m   9768\u001B[0m \u001B[38;5;28;01melse\u001B[39;00m:\n\u001B[1;32m   9769\u001B[0m     convention \u001B[38;5;241m=\u001B[39m \u001B[38;5;124m\"\u001B[39m\u001B[38;5;124mstart\u001B[39m\u001B[38;5;124m\"\u001B[39m\n\u001B[0;32m-> 9771\u001B[0m \u001B[38;5;28;01mreturn\u001B[39;00m \u001B[43mget_resampler\u001B[49m\u001B[43m(\u001B[49m\n\u001B[1;32m   9772\u001B[0m \u001B[43m    \u001B[49m\u001B[43mcast\u001B[49m\u001B[43m(\u001B[49m\u001B[38;5;124;43m\"\u001B[39;49m\u001B[38;5;124;43mSeries | DataFrame\u001B[39;49m\u001B[38;5;124;43m\"\u001B[39;49m\u001B[43m,\u001B[49m\u001B[43m \u001B[49m\u001B[38;5;28;43mself\u001B[39;49m\u001B[43m)\u001B[49m\u001B[43m,\u001B[49m\n\u001B[1;32m   9773\u001B[0m \u001B[43m    \u001B[49m\u001B[43mfreq\u001B[49m\u001B[38;5;241;43m=\u001B[39;49m\u001B[43mrule\u001B[49m\u001B[43m,\u001B[49m\n\u001B[1;32m   9774\u001B[0m \u001B[43m    \u001B[49m\u001B[43mlabel\u001B[49m\u001B[38;5;241;43m=\u001B[39;49m\u001B[43mlabel\u001B[49m\u001B[43m,\u001B[49m\n\u001B[1;32m   9775\u001B[0m \u001B[43m    \u001B[49m\u001B[43mclosed\u001B[49m\u001B[38;5;241;43m=\u001B[39;49m\u001B[43mclosed\u001B[49m\u001B[43m,\u001B[49m\n\u001B[1;32m   9776\u001B[0m \u001B[43m    \u001B[49m\u001B[43maxis\u001B[49m\u001B[38;5;241;43m=\u001B[39;49m\u001B[43maxis\u001B[49m\u001B[43m,\u001B[49m\n\u001B[1;32m   9777\u001B[0m \u001B[43m    \u001B[49m\u001B[43mkind\u001B[49m\u001B[38;5;241;43m=\u001B[39;49m\u001B[43mkind\u001B[49m\u001B[43m,\u001B[49m\n\u001B[1;32m   9778\u001B[0m \u001B[43m    \u001B[49m\u001B[43mconvention\u001B[49m\u001B[38;5;241;43m=\u001B[39;49m\u001B[43mconvention\u001B[49m\u001B[43m,\u001B[49m\n\u001B[1;32m   9779\u001B[0m \u001B[43m    \u001B[49m\u001B[43mkey\u001B[49m\u001B[38;5;241;43m=\u001B[39;49m\u001B[43mon\u001B[49m\u001B[43m,\u001B[49m\n\u001B[1;32m   9780\u001B[0m \u001B[43m    \u001B[49m\u001B[43mlevel\u001B[49m\u001B[38;5;241;43m=\u001B[39;49m\u001B[43mlevel\u001B[49m\u001B[43m,\u001B[49m\n\u001B[1;32m   9781\u001B[0m \u001B[43m    \u001B[49m\u001B[43morigin\u001B[49m\u001B[38;5;241;43m=\u001B[39;49m\u001B[43morigin\u001B[49m\u001B[43m,\u001B[49m\n\u001B[1;32m   9782\u001B[0m \u001B[43m    \u001B[49m\u001B[43moffset\u001B[49m\u001B[38;5;241;43m=\u001B[39;49m\u001B[43moffset\u001B[49m\u001B[43m,\u001B[49m\n\u001B[1;32m   9783\u001B[0m \u001B[43m    \u001B[49m\u001B[43mgroup_keys\u001B[49m\u001B[38;5;241;43m=\u001B[39;49m\u001B[43mgroup_keys\u001B[49m\u001B[43m,\u001B[49m\n\u001B[1;32m   9784\u001B[0m \u001B[43m\u001B[49m\u001B[43m)\u001B[49m\n",
      "File \u001B[0;32m~/miniconda3/lib/python3.11/site-packages/pandas/core/resample.py:2050\u001B[0m, in \u001B[0;36mget_resampler\u001B[0;34m(obj, kind, **kwds)\u001B[0m\n\u001B[1;32m   2046\u001B[0m \u001B[38;5;250m\u001B[39m\u001B[38;5;124;03m\"\"\"\u001B[39;00m\n\u001B[1;32m   2047\u001B[0m \u001B[38;5;124;03mCreate a TimeGrouper and return our resampler.\u001B[39;00m\n\u001B[1;32m   2048\u001B[0m \u001B[38;5;124;03m\"\"\"\u001B[39;00m\n\u001B[1;32m   2049\u001B[0m tg \u001B[38;5;241m=\u001B[39m TimeGrouper(obj, \u001B[38;5;241m*\u001B[39m\u001B[38;5;241m*\u001B[39mkwds)  \u001B[38;5;66;03m# type: ignore[arg-type]\u001B[39;00m\n\u001B[0;32m-> 2050\u001B[0m \u001B[38;5;28;01mreturn\u001B[39;00m \u001B[43mtg\u001B[49m\u001B[38;5;241;43m.\u001B[39;49m\u001B[43m_get_resampler\u001B[49m\u001B[43m(\u001B[49m\u001B[43mobj\u001B[49m\u001B[43m,\u001B[49m\u001B[43m \u001B[49m\u001B[43mkind\u001B[49m\u001B[38;5;241;43m=\u001B[39;49m\u001B[43mkind\u001B[49m\u001B[43m)\u001B[49m\n",
      "File \u001B[0;32m~/miniconda3/lib/python3.11/site-packages/pandas/core/resample.py:2272\u001B[0m, in \u001B[0;36mTimeGrouper._get_resampler\u001B[0;34m(self, obj, kind)\u001B[0m\n\u001B[1;32m   2263\u001B[0m \u001B[38;5;28;01melif\u001B[39;00m \u001B[38;5;28misinstance\u001B[39m(ax, TimedeltaIndex):\n\u001B[1;32m   2264\u001B[0m     \u001B[38;5;28;01mreturn\u001B[39;00m TimedeltaIndexResampler(\n\u001B[1;32m   2265\u001B[0m         obj,\n\u001B[1;32m   2266\u001B[0m         timegrouper\u001B[38;5;241m=\u001B[39m\u001B[38;5;28mself\u001B[39m,\n\u001B[0;32m   (...)\u001B[0m\n\u001B[1;32m   2269\u001B[0m         gpr_index\u001B[38;5;241m=\u001B[39max,\n\u001B[1;32m   2270\u001B[0m     )\n\u001B[0;32m-> 2272\u001B[0m \u001B[38;5;28;01mraise\u001B[39;00m \u001B[38;5;167;01mTypeError\u001B[39;00m(\n\u001B[1;32m   2273\u001B[0m     \u001B[38;5;124m\"\u001B[39m\u001B[38;5;124mOnly valid with DatetimeIndex, \u001B[39m\u001B[38;5;124m\"\u001B[39m\n\u001B[1;32m   2274\u001B[0m     \u001B[38;5;124m\"\u001B[39m\u001B[38;5;124mTimedeltaIndex or PeriodIndex, \u001B[39m\u001B[38;5;124m\"\u001B[39m\n\u001B[1;32m   2275\u001B[0m     \u001B[38;5;124mf\u001B[39m\u001B[38;5;124m\"\u001B[39m\u001B[38;5;124mbut got an instance of \u001B[39m\u001B[38;5;124m'\u001B[39m\u001B[38;5;132;01m{\u001B[39;00m\u001B[38;5;28mtype\u001B[39m(ax)\u001B[38;5;241m.\u001B[39m\u001B[38;5;18m__name__\u001B[39m\u001B[38;5;132;01m}\u001B[39;00m\u001B[38;5;124m'\u001B[39m\u001B[38;5;124m\"\u001B[39m\n\u001B[1;32m   2276\u001B[0m )\n",
      "\u001B[0;31mTypeError\u001B[0m: Only valid with DatetimeIndex, TimedeltaIndex or PeriodIndex, but got an instance of 'MultiIndex'"
     ]
    }
   ],
   "source": [
    "# Convert Year to datetime (set to January 1st of each year)\n",
    "esg_df[\"Date\"] = pd.to_datetime(esg_df[\"Year\"].astype(str) + \"-01-01\")\n",
    "\n",
    "# Pivot so each indicator is a column\n",
    "esg_pivot = esg_df.pivot_table(index=[\"Date\", \"Country Name\"], \n",
    "                               columns=\"Indicator Name\", \n",
    "                               values=\"Value\")\n",
    "\n",
    "# Resample to daily frequency and forward-fill missing values\n",
    "esg_daily = esg_pivot.groupby(level=\"Country Name\").apply(lambda x: x.resample(\"D\").ffill()).reset_index()\n",
    "\n",
    "# Filter only data from June 2010 onward\n",
    "esg_daily = esg_daily[esg_daily[\"Date\"] >= \"2010-06-01\"]\n",
    "\n",
    "esg_daily\n"
   ],
   "metadata": {
    "collapsed": false,
    "ExecuteTime": {
     "end_time": "2025-03-05T02:50:13.362180Z",
     "start_time": "2025-03-05T02:50:12.762380Z"
    }
   },
   "id": "de0b0d0a5b4477b9",
   "execution_count": 8
  },
  {
   "cell_type": "code",
   "outputs": [],
   "source": [],
   "metadata": {
    "collapsed": false
   },
   "id": "f3d8a56b16ab9901"
  },
  {
   "cell_type": "code",
   "outputs": [
    {
     "data": {
      "text/plain": "            Tesla_Close     Aluminum  Lithium       Nickel \ndate                                                       \n2025-02-28       292.98          NaN      NaN           NaN\n2025-02-27       281.95          NaN      NaN           NaN\n2025-02-26       290.80          NaN      NaN           NaN\n2025-02-25       302.80          NaN      NaN           NaN\n2025-02-24       330.53          NaN      NaN           NaN\n...                 ...          ...      ...           ...\n2010-07-06        16.11          NaN      NaN           NaN\n2010-07-02        19.20          NaN      NaN           NaN\n2010-07-01        21.96  1989.045455      NaN  19548.522727\n2010-06-30        23.83          NaN      NaN           NaN\n2010-06-29        23.89          NaN      NaN           NaN\n\n[3691 rows x 4 columns]",
      "text/html": "<div>\n<style scoped>\n    .dataframe tbody tr th:only-of-type {\n        vertical-align: middle;\n    }\n\n    .dataframe tbody tr th {\n        vertical-align: top;\n    }\n\n    .dataframe thead th {\n        text-align: right;\n    }\n</style>\n<table border=\"1\" class=\"dataframe\">\n  <thead>\n    <tr style=\"text-align: right;\">\n      <th></th>\n      <th>Tesla_Close</th>\n      <th>Aluminum</th>\n      <th>Lithium</th>\n      <th>Nickel</th>\n    </tr>\n    <tr>\n      <th>date</th>\n      <th></th>\n      <th></th>\n      <th></th>\n      <th></th>\n    </tr>\n  </thead>\n  <tbody>\n    <tr>\n      <th>2025-02-28</th>\n      <td>292.98</td>\n      <td>NaN</td>\n      <td>NaN</td>\n      <td>NaN</td>\n    </tr>\n    <tr>\n      <th>2025-02-27</th>\n      <td>281.95</td>\n      <td>NaN</td>\n      <td>NaN</td>\n      <td>NaN</td>\n    </tr>\n    <tr>\n      <th>2025-02-26</th>\n      <td>290.80</td>\n      <td>NaN</td>\n      <td>NaN</td>\n      <td>NaN</td>\n    </tr>\n    <tr>\n      <th>2025-02-25</th>\n      <td>302.80</td>\n      <td>NaN</td>\n      <td>NaN</td>\n      <td>NaN</td>\n    </tr>\n    <tr>\n      <th>2025-02-24</th>\n      <td>330.53</td>\n      <td>NaN</td>\n      <td>NaN</td>\n      <td>NaN</td>\n    </tr>\n    <tr>\n      <th>...</th>\n      <td>...</td>\n      <td>...</td>\n      <td>...</td>\n      <td>...</td>\n    </tr>\n    <tr>\n      <th>2010-07-06</th>\n      <td>16.11</td>\n      <td>NaN</td>\n      <td>NaN</td>\n      <td>NaN</td>\n    </tr>\n    <tr>\n      <th>2010-07-02</th>\n      <td>19.20</td>\n      <td>NaN</td>\n      <td>NaN</td>\n      <td>NaN</td>\n    </tr>\n    <tr>\n      <th>2010-07-01</th>\n      <td>21.96</td>\n      <td>1989.045455</td>\n      <td>NaN</td>\n      <td>19548.522727</td>\n    </tr>\n    <tr>\n      <th>2010-06-30</th>\n      <td>23.83</td>\n      <td>NaN</td>\n      <td>NaN</td>\n      <td>NaN</td>\n    </tr>\n    <tr>\n      <th>2010-06-29</th>\n      <td>23.89</td>\n      <td>NaN</td>\n      <td>NaN</td>\n      <td>NaN</td>\n    </tr>\n  </tbody>\n</table>\n<p>3691 rows × 4 columns</p>\n</div>"
     },
     "execution_count": 14,
     "metadata": {},
     "output_type": "execute_result"
    }
   ],
   "source": [
    "'''\n",
    "import numpy as np\n",
    "import matplotlib.pyplot as plt\n",
    "import tensorflow as tf\n",
    "from tensorflow.keras.models import Sequential\n",
    "from tensorflow.keras.layers import LSTM, Dense, Dropout\n",
    "from sklearn.preprocessing import MinMaxScaler\n",
    "from datetime import datetime\n",
    "\n",
    "# Normalize Data\n",
    "scaler = MinMaxScaler()\n",
    "data_scaled = scaler.fit_transform(data)\n",
    "\n",
    "# Function to create sequences\n",
    "def create_sequences(data, lookback=60):\n",
    "    X, y = [], []\n",
    "    for i in range(len(data) - lookback):\n",
    "        X.append(data[i:i+lookback])\n",
    "        y.append(data[i+lookback, 0])  # Predicting Tesla Close Price\n",
    "    return np.array(X), np.array(y)\n",
    "\n",
    "# Create sequences\n",
    "lookback = 60\n",
    "X, y = create_sequences(data_scaled, lookback)\n",
    "\n",
    "# Ensure correct shape\n",
    "X = X.reshape(X.shape[0], X.shape[1], data_scaled.shape[1])\n",
    "\n",
    "# Train-Test Split\n",
    "split = int(0.8 * len(X))\n",
    "X_train, X_test = X[:split], X[split:]\n",
    "y_train, y_test = y[:split], y[split:]\n",
    "\n",
    "# Build LSTM Model\n",
    "model = Sequential([\n",
    "    LSTM(50, return_sequences=True, input_shape=(lookback, X.shape[2])),\n",
    "    Dropout(0.2),\n",
    "    LSTM(50, return_sequences=False),\n",
    "    Dropout(0.2),\n",
    "    Dense(25),\n",
    "    Dense(1)\n",
    "])\n",
    "\n",
    "# Compile Model\n",
    "model.compile(optimizer='adam', loss='mean_squared_error')\n",
    "\n",
    "# Train Model\n",
    "history = model.fit(X_train, y_train, epochs=20, batch_size=32, validation_data=(X_test, y_test), verbose=1)\n",
    "\n",
    "# Predictions\n",
    "y_pred = model.predict(X_test)\n",
    "\n",
    "# Rescale Predictions\n",
    "y_pred_rescaled = scaler.inverse_transform(\n",
    "    np.concatenate((y_pred, np.zeros((y_pred.shape[0], data_scaled.shape[1] - 1))), axis=1)\n",
    ")[:, 0]\n",
    "\n",
    "y_test_rescaled = scaler.inverse_transform(\n",
    "    np.concatenate((y_test.reshape(-1, 1), np.zeros((y_test.shape[0], data_scaled.shape[1] - 1))), axis=1)\n",
    ")[:, 0]\n",
    "\n",
    "# Plot Results\n",
    "plt.figure(figsize=(10, 5))\n",
    "plt.plot(y_test_rescaled, label='Actual Price')\n",
    "plt.plot(y_pred_rescaled, label='Predicted Price')\n",
    "plt.legend()\n",
    "plt.title('Tesla Stock Price Prediction')\n",
    "plt.show()'''"
   ],
   "metadata": {
    "collapsed": false,
    "ExecuteTime": {
     "end_time": "2025-03-03T03:12:50.465964Z",
     "start_time": "2025-03-03T03:12:50.451171Z"
    }
   },
   "id": "166e0735e7c94980",
   "execution_count": 14
  },
  {
   "cell_type": "code",
   "outputs": [],
   "source": [],
   "metadata": {
    "collapsed": false
   },
   "id": "7277ea2021d6d426"
  }
 ],
 "metadata": {
  "kernelspec": {
   "display_name": "Python 3",
   "language": "python",
   "name": "python3"
  },
  "language_info": {
   "codemirror_mode": {
    "name": "ipython",
    "version": 2
   },
   "file_extension": ".py",
   "mimetype": "text/x-python",
   "name": "python",
   "nbconvert_exporter": "python",
   "pygments_lexer": "ipython2",
   "version": "2.7.6"
  }
 },
 "nbformat": 4,
 "nbformat_minor": 5
}
