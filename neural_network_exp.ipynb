{
 "cells": [
  {
   "cell_type": "markdown",
   "source": [
    "# Data Aggregating/Cleaning"
   ],
   "metadata": {
    "collapsed": false
   },
   "id": "698b96e3b5d3dd8a"
  },
  {
   "cell_type": "markdown",
   "source": [
    "### Load ETF Data (KARS, DRIV, IDRV, LIT) from April 2019 to April 2025"
   ],
   "metadata": {
    "collapsed": false
   },
   "id": "dbfd86e45f8b7d23"
  },
  {
   "cell_type": "code",
   "outputs": [
    {
     "data": {
      "text/plain": "            KARS  DRIV  IDRV     LIT\ndate                                \n2010-07-23   NaN   NaN   NaN  16.090\n2010-07-26   NaN   NaN   NaN  16.456\n2010-07-27   NaN   NaN   NaN  16.390\n2010-07-28   NaN   NaN   NaN  16.330\n2010-07-29   NaN   NaN   NaN  16.820",
      "text/html": "<div>\n<style scoped>\n    .dataframe tbody tr th:only-of-type {\n        vertical-align: middle;\n    }\n\n    .dataframe tbody tr th {\n        vertical-align: top;\n    }\n\n    .dataframe thead th {\n        text-align: right;\n    }\n</style>\n<table border=\"1\" class=\"dataframe\">\n  <thead>\n    <tr style=\"text-align: right;\">\n      <th></th>\n      <th>KARS</th>\n      <th>DRIV</th>\n      <th>IDRV</th>\n      <th>LIT</th>\n    </tr>\n    <tr>\n      <th>date</th>\n      <th></th>\n      <th></th>\n      <th></th>\n      <th></th>\n    </tr>\n  </thead>\n  <tbody>\n    <tr>\n      <th>2010-07-23</th>\n      <td>NaN</td>\n      <td>NaN</td>\n      <td>NaN</td>\n      <td>16.090</td>\n    </tr>\n    <tr>\n      <th>2010-07-26</th>\n      <td>NaN</td>\n      <td>NaN</td>\n      <td>NaN</td>\n      <td>16.456</td>\n    </tr>\n    <tr>\n      <th>2010-07-27</th>\n      <td>NaN</td>\n      <td>NaN</td>\n      <td>NaN</td>\n      <td>16.390</td>\n    </tr>\n    <tr>\n      <th>2010-07-28</th>\n      <td>NaN</td>\n      <td>NaN</td>\n      <td>NaN</td>\n      <td>16.330</td>\n    </tr>\n    <tr>\n      <th>2010-07-29</th>\n      <td>NaN</td>\n      <td>NaN</td>\n      <td>NaN</td>\n      <td>16.820</td>\n    </tr>\n  </tbody>\n</table>\n</div>"
     },
     "execution_count": 14,
     "metadata": {},
     "output_type": "execute_result"
    }
   ],
   "source": [
    "from alpha_vantage.timeseries import TimeSeries\n",
    "import pandas as pd\n",
    "\n",
    "# Initialize API and TimeSeries object\n",
    "api_key = \"97OGHWS77V9ZH0G7\"\n",
    "ts = TimeSeries(key=api_key, output_format=\"pandas\")\n",
    "\n",
    "# List of ETF tickers\n",
    "tickers = ['KARS', 'DRIV', 'IDRV', 'LIT'] \n",
    "etf_data = {}\n",
    "\n",
    "# Fetch and process each ETF\n",
    "for ticker in tickers:\n",
    "    data, _ = ts.get_daily(symbol=ticker, outputsize='full')\n",
    "    # Extract and sort closing prices\n",
    "    closes = data['4. close'].sort_index()\n",
    "    etf_data[ticker] = closes\n",
    "\n",
    "etf_df = pd.DataFrame(etf_data)\n",
    "etf_df.index = pd.to_datetime(etf_df.index) # Ensure index is datetime\n",
    "\n",
    "# Sort by date\n",
    "etf_df = etf_df.sort_index()\n",
    "etf_df.head()"
   ],
   "metadata": {
    "collapsed": true,
    "ExecuteTime": {
     "end_time": "2025-04-09T04:20:23.127371Z",
     "start_time": "2025-04-09T04:20:21.005Z"
    }
   },
   "id": "initial_id",
   "execution_count": 14
  },
  {
   "cell_type": "code",
   "outputs": [
    {
     "data": {
      "text/plain": "               KARS    DRIV    IDRV    LIT\ndate                                      \n2019-04-18  22.5000  14.400  25.870  29.06\n2019-04-22  22.5000  14.340  25.857  28.85\n2019-04-23  22.3700  14.300  25.935  28.59\n2019-04-24  22.3700  14.280  25.790  28.03\n2019-04-25  21.9600  14.008  25.435  27.72\n...             ...     ...     ...    ...\n2025-04-02  21.4500  21.240  29.510  38.62\n2025-04-03  20.4100  19.940  28.270  37.07\n2025-04-04  19.2900  18.720  26.720  34.92\n2025-04-07  18.0186  18.390  25.830  32.81\n2025-04-08  17.6454  17.750  24.690  31.82\n\n[1502 rows x 4 columns]",
      "text/html": "<div>\n<style scoped>\n    .dataframe tbody tr th:only-of-type {\n        vertical-align: middle;\n    }\n\n    .dataframe tbody tr th {\n        vertical-align: top;\n    }\n\n    .dataframe thead th {\n        text-align: right;\n    }\n</style>\n<table border=\"1\" class=\"dataframe\">\n  <thead>\n    <tr style=\"text-align: right;\">\n      <th></th>\n      <th>KARS</th>\n      <th>DRIV</th>\n      <th>IDRV</th>\n      <th>LIT</th>\n    </tr>\n    <tr>\n      <th>date</th>\n      <th></th>\n      <th></th>\n      <th></th>\n      <th></th>\n    </tr>\n  </thead>\n  <tbody>\n    <tr>\n      <th>2019-04-18</th>\n      <td>22.5000</td>\n      <td>14.400</td>\n      <td>25.870</td>\n      <td>29.06</td>\n    </tr>\n    <tr>\n      <th>2019-04-22</th>\n      <td>22.5000</td>\n      <td>14.340</td>\n      <td>25.857</td>\n      <td>28.85</td>\n    </tr>\n    <tr>\n      <th>2019-04-23</th>\n      <td>22.3700</td>\n      <td>14.300</td>\n      <td>25.935</td>\n      <td>28.59</td>\n    </tr>\n    <tr>\n      <th>2019-04-24</th>\n      <td>22.3700</td>\n      <td>14.280</td>\n      <td>25.790</td>\n      <td>28.03</td>\n    </tr>\n    <tr>\n      <th>2019-04-25</th>\n      <td>21.9600</td>\n      <td>14.008</td>\n      <td>25.435</td>\n      <td>27.72</td>\n    </tr>\n    <tr>\n      <th>...</th>\n      <td>...</td>\n      <td>...</td>\n      <td>...</td>\n      <td>...</td>\n    </tr>\n    <tr>\n      <th>2025-04-02</th>\n      <td>21.4500</td>\n      <td>21.240</td>\n      <td>29.510</td>\n      <td>38.62</td>\n    </tr>\n    <tr>\n      <th>2025-04-03</th>\n      <td>20.4100</td>\n      <td>19.940</td>\n      <td>28.270</td>\n      <td>37.07</td>\n    </tr>\n    <tr>\n      <th>2025-04-04</th>\n      <td>19.2900</td>\n      <td>18.720</td>\n      <td>26.720</td>\n      <td>34.92</td>\n    </tr>\n    <tr>\n      <th>2025-04-07</th>\n      <td>18.0186</td>\n      <td>18.390</td>\n      <td>25.830</td>\n      <td>32.81</td>\n    </tr>\n    <tr>\n      <th>2025-04-08</th>\n      <td>17.6454</td>\n      <td>17.750</td>\n      <td>24.690</td>\n      <td>31.82</td>\n    </tr>\n  </tbody>\n</table>\n<p>1502 rows × 4 columns</p>\n</div>"
     },
     "execution_count": 15,
     "metadata": {},
     "output_type": "execute_result"
    }
   ],
   "source": [
    "etf_df = etf_df.dropna()\n",
    "etf_df"
   ],
   "metadata": {
    "collapsed": false,
    "ExecuteTime": {
     "end_time": "2025-04-09T04:20:25.780904Z",
     "start_time": "2025-04-09T04:20:25.758962Z"
    }
   },
   "id": "f8b51ae0fe4a5920",
   "execution_count": 15
  },
  {
   "cell_type": "markdown",
   "source": [
    "### Load company stock close price data"
   ],
   "metadata": {
    "collapsed": false
   },
   "id": "7d44d9d1e26c36af"
  },
  {
   "cell_type": "code",
   "outputs": [
    {
     "ename": "ValueError",
     "evalue": "Invalid API call. Please retry or visit the documentation (https://www.alphavantage.co/documentation/) for TIME_SERIES_DAILY.",
     "output_type": "error",
     "traceback": [
      "\u001B[0;31m---------------------------------------------------------------------------\u001B[0m",
      "\u001B[0;31mValueError\u001B[0m                                Traceback (most recent call last)",
      "Cell \u001B[0;32mIn[16], line 14\u001B[0m\n\u001B[1;32m     12\u001B[0m \u001B[38;5;66;03m# Fetch and process each company\u001B[39;00m\n\u001B[1;32m     13\u001B[0m \u001B[38;5;28;01mfor\u001B[39;00m ticker \u001B[38;5;129;01min\u001B[39;00m stock_tickers:\n\u001B[0;32m---> 14\u001B[0m     data, _ \u001B[38;5;241m=\u001B[39m \u001B[43mts\u001B[49m\u001B[38;5;241;43m.\u001B[39;49m\u001B[43mget_daily\u001B[49m\u001B[43m(\u001B[49m\u001B[43msymbol\u001B[49m\u001B[38;5;241;43m=\u001B[39;49m\u001B[43mticker\u001B[49m\u001B[43m,\u001B[49m\u001B[43m \u001B[49m\u001B[43moutputsize\u001B[49m\u001B[38;5;241;43m=\u001B[39;49m\u001B[38;5;124;43m'\u001B[39;49m\u001B[38;5;124;43mfull\u001B[39;49m\u001B[38;5;124;43m'\u001B[39;49m\u001B[43m)\u001B[49m\n\u001B[1;32m     15\u001B[0m     \u001B[38;5;66;03m# Extract and sort closing prices\u001B[39;00m\n\u001B[1;32m     16\u001B[0m     closes \u001B[38;5;241m=\u001B[39m data[\u001B[38;5;124m'\u001B[39m\u001B[38;5;124m4. close\u001B[39m\u001B[38;5;124m'\u001B[39m]\u001B[38;5;241m.\u001B[39msort_index()\n",
      "File \u001B[0;32m~/miniconda3/lib/python3.11/site-packages/alpha_vantage/alphavantage.py:218\u001B[0m, in \u001B[0;36mAlphaVantage._output_format.<locals>._format_wrapper\u001B[0;34m(self, *args, **kwargs)\u001B[0m\n\u001B[1;32m    216\u001B[0m \u001B[38;5;129m@wraps\u001B[39m(func)\n\u001B[1;32m    217\u001B[0m \u001B[38;5;28;01mdef\u001B[39;00m \u001B[38;5;21m_format_wrapper\u001B[39m(\u001B[38;5;28mself\u001B[39m, \u001B[38;5;241m*\u001B[39margs, \u001B[38;5;241m*\u001B[39m\u001B[38;5;241m*\u001B[39mkwargs):\n\u001B[0;32m--> 218\u001B[0m     call_response, data_key, meta_data_key \u001B[38;5;241m=\u001B[39m \u001B[43mfunc\u001B[49m\u001B[43m(\u001B[49m\n\u001B[1;32m    219\u001B[0m \u001B[43m        \u001B[49m\u001B[38;5;28;43mself\u001B[39;49m\u001B[43m,\u001B[49m\u001B[43m \u001B[49m\u001B[38;5;241;43m*\u001B[39;49m\u001B[43margs\u001B[49m\u001B[43m,\u001B[49m\u001B[43m \u001B[49m\u001B[38;5;241;43m*\u001B[39;49m\u001B[38;5;241;43m*\u001B[39;49m\u001B[43mkwargs\u001B[49m\u001B[43m)\u001B[49m\n\u001B[1;32m    220\u001B[0m     \u001B[38;5;28;01mif\u001B[39;00m \u001B[38;5;124m'\u001B[39m\u001B[38;5;124mjson\u001B[39m\u001B[38;5;124m'\u001B[39m \u001B[38;5;129;01min\u001B[39;00m \u001B[38;5;28mself\u001B[39m\u001B[38;5;241m.\u001B[39moutput_format\u001B[38;5;241m.\u001B[39mlower() \u001B[38;5;129;01mor\u001B[39;00m \u001B[38;5;124m'\u001B[39m\u001B[38;5;124mpandas\u001B[39m\u001B[38;5;124m'\u001B[39m \\\n\u001B[1;32m    221\u001B[0m             \u001B[38;5;129;01min\u001B[39;00m \u001B[38;5;28mself\u001B[39m\u001B[38;5;241m.\u001B[39moutput_format\u001B[38;5;241m.\u001B[39mlower():\n\u001B[1;32m    222\u001B[0m         \u001B[38;5;28;01mif\u001B[39;00m data_key \u001B[38;5;129;01mis\u001B[39;00m \u001B[38;5;129;01mnot\u001B[39;00m \u001B[38;5;28;01mNone\u001B[39;00m:\n",
      "File \u001B[0;32m~/miniconda3/lib/python3.11/site-packages/alpha_vantage/alphavantage.py:160\u001B[0m, in \u001B[0;36mAlphaVantage._call_api_on_func.<locals>._call_wrapper\u001B[0;34m(self, *args, **kwargs)\u001B[0m\n\u001B[1;32m    158\u001B[0m \u001B[38;5;28;01melse\u001B[39;00m:\n\u001B[1;32m    159\u001B[0m     url \u001B[38;5;241m=\u001B[39m \u001B[38;5;124m'\u001B[39m\u001B[38;5;132;01m{}\u001B[39;00m\u001B[38;5;132;01m{}\u001B[39;00m\u001B[38;5;124m'\u001B[39m\u001B[38;5;241m.\u001B[39mformat(url, apikey_parameter)\n\u001B[0;32m--> 160\u001B[0m \u001B[38;5;28;01mreturn\u001B[39;00m \u001B[38;5;28;43mself\u001B[39;49m\u001B[38;5;241;43m.\u001B[39;49m\u001B[43m_handle_api_call\u001B[49m\u001B[43m(\u001B[49m\u001B[43murl\u001B[49m\u001B[43m)\u001B[49m, data_key, meta_data_key\n",
      "File \u001B[0;32m~/miniconda3/lib/python3.11/site-packages/alpha_vantage/alphavantage.py:359\u001B[0m, in \u001B[0;36mAlphaVantage._handle_api_call\u001B[0;34m(self, url)\u001B[0m\n\u001B[1;32m    356\u001B[0m     \u001B[38;5;28;01mraise\u001B[39;00m \u001B[38;5;167;01mValueError\u001B[39;00m(\n\u001B[1;32m    357\u001B[0m         \u001B[38;5;124m'\u001B[39m\u001B[38;5;124mError getting data from the api, no return was given.\u001B[39m\u001B[38;5;124m'\u001B[39m)\n\u001B[1;32m    358\u001B[0m \u001B[38;5;28;01melif\u001B[39;00m \u001B[38;5;124m\"\u001B[39m\u001B[38;5;124mError Message\u001B[39m\u001B[38;5;124m\"\u001B[39m \u001B[38;5;129;01min\u001B[39;00m json_response:\n\u001B[0;32m--> 359\u001B[0m     \u001B[38;5;28;01mraise\u001B[39;00m \u001B[38;5;167;01mValueError\u001B[39;00m(json_response[\u001B[38;5;124m\"\u001B[39m\u001B[38;5;124mError Message\u001B[39m\u001B[38;5;124m\"\u001B[39m])\n\u001B[1;32m    360\u001B[0m \u001B[38;5;28;01melif\u001B[39;00m \u001B[38;5;124m\"\u001B[39m\u001B[38;5;124mInformation\u001B[39m\u001B[38;5;124m\"\u001B[39m \u001B[38;5;129;01min\u001B[39;00m json_response \u001B[38;5;129;01mand\u001B[39;00m \u001B[38;5;28mself\u001B[39m\u001B[38;5;241m.\u001B[39mtreat_info_as_error:\n\u001B[1;32m    361\u001B[0m     \u001B[38;5;28;01mraise\u001B[39;00m \u001B[38;5;167;01mValueError\u001B[39;00m(json_response[\u001B[38;5;124m\"\u001B[39m\u001B[38;5;124mInformation\u001B[39m\u001B[38;5;124m\"\u001B[39m])\n",
      "\u001B[0;31mValueError\u001B[0m: Invalid API call. Please retry or visit the documentation (https://www.alphavantage.co/documentation/) for TIME_SERIES_DAILY."
     ]
    }
   ],
   "source": [
    "from alpha_vantage.timeseries import TimeSeries\n",
    "import pandas as pd\n",
    "\n",
    "# Initialize API and TimeSeries object\n",
    "api_key = \"97OGHWS77V9ZH0G7\"\n",
    "ts = TimeSeries(key=api_key, output_format=\"pandas\")\n",
    "\n",
    "# List of company tickers\n",
    "stock_tickers = ['TSLA', 'RIVN', 'BYDDY', 'NIO Inc.', 'LCID', 'F', 'HYMTF']\n",
    "stock_data = {}\n",
    "\n",
    "# Fetch and process each company\n",
    "for ticker in stock_tickers:\n",
    "    data, _ = ts.get_daily(symbol=ticker, outputsize='full')\n",
    "    # Extract and sort closing prices\n",
    "    closes = data['4. close'].sort_index()\n",
    "    stock_data[ticker] = closes\n",
    "\n",
    "stock_df = pd.DataFrame(stock_data)\n",
    "stock_df.index = pd.to_datetime(stock_df.index)\n",
    "stock_df = stock_df.sort_index()\n",
    "\n",
    "# Drop rows with any NaN values\n",
    "stock_df_clean = stock_df.dropna()\n",
    "stock_df_clean"
   ],
   "metadata": {
    "collapsed": false,
    "ExecuteTime": {
     "end_time": "2025-04-09T04:28:53.961910Z",
     "start_time": "2025-04-09T04:28:50.973265Z"
    }
   },
   "id": "108999ea40f2ab15",
   "execution_count": 16
  },
  {
   "cell_type": "markdown",
   "source": [
    "### Load Green Commodities Metals Data"
   ],
   "metadata": {
    "collapsed": false
   },
   "id": "7f32756e94ea52f1"
  },
  {
   "cell_type": "code",
   "outputs": [
    {
     "data": {
      "text/plain": "     Commodity Name Commodity Code  \\\n0          Aluminum          PALUM   \n1           Nickel           PNICK   \n2           Nickel           PNICK   \n3          Aluminum          PALUM   \n4          Aluminum          PALUM   \n...             ...            ...   \n3958       Aluminum          PALUM   \n3959       Aluminum          PALUM   \n3960        Lithium          PLITH   \n3961        Nickel           PNICK   \n3962        Nickel           PNICK   \n\n                                              Unit Name       Date  \\\n0                                                 Index 1990-01-01   \n1     Percent Change over Corresponding Period Previ... 1990-01-01   \n2                                            US Dollars 1990-01-01   \n3                   Percent Change over Previous Period 1990-01-01   \n4     Percent Change over Corresponding Period Previ... 1990-01-01   \n...                                                 ...        ...   \n3958  Percent Change over Corresponding Period Previ... 2025-01-01   \n3959                                         US Dollars 2025-01-01   \n3960                                         US Dollars 2025-01-01   \n3961                                              Index 2025-01-01   \n3962                Percent Change over Previous Period 2025-01-01   \n\n             Value  \n0        95.251042  \n1       -60.192144  \n2      7056.000000  \n3        -6.429884  \n4       -36.296876  \n...            ...  \n3958     16.797308  \n3959   2571.370435  \n3960  91267.271203  \n3961    160.226930  \n3962     -0.418401  \n\n[3963 rows x 5 columns]",
      "text/html": "<div>\n<style scoped>\n    .dataframe tbody tr th:only-of-type {\n        vertical-align: middle;\n    }\n\n    .dataframe tbody tr th {\n        vertical-align: top;\n    }\n\n    .dataframe thead th {\n        text-align: right;\n    }\n</style>\n<table border=\"1\" class=\"dataframe\">\n  <thead>\n    <tr style=\"text-align: right;\">\n      <th></th>\n      <th>Commodity Name</th>\n      <th>Commodity Code</th>\n      <th>Unit Name</th>\n      <th>Date</th>\n      <th>Value</th>\n    </tr>\n  </thead>\n  <tbody>\n    <tr>\n      <th>0</th>\n      <td>Aluminum</td>\n      <td>PALUM</td>\n      <td>Index</td>\n      <td>1990-01-01</td>\n      <td>95.251042</td>\n    </tr>\n    <tr>\n      <th>1</th>\n      <td>Nickel</td>\n      <td>PNICK</td>\n      <td>Percent Change over Corresponding Period Previ...</td>\n      <td>1990-01-01</td>\n      <td>-60.192144</td>\n    </tr>\n    <tr>\n      <th>2</th>\n      <td>Nickel</td>\n      <td>PNICK</td>\n      <td>US Dollars</td>\n      <td>1990-01-01</td>\n      <td>7056.000000</td>\n    </tr>\n    <tr>\n      <th>3</th>\n      <td>Aluminum</td>\n      <td>PALUM</td>\n      <td>Percent Change over Previous Period</td>\n      <td>1990-01-01</td>\n      <td>-6.429884</td>\n    </tr>\n    <tr>\n      <th>4</th>\n      <td>Aluminum</td>\n      <td>PALUM</td>\n      <td>Percent Change over Corresponding Period Previ...</td>\n      <td>1990-01-01</td>\n      <td>-36.296876</td>\n    </tr>\n    <tr>\n      <th>...</th>\n      <td>...</td>\n      <td>...</td>\n      <td>...</td>\n      <td>...</td>\n      <td>...</td>\n    </tr>\n    <tr>\n      <th>3958</th>\n      <td>Aluminum</td>\n      <td>PALUM</td>\n      <td>Percent Change over Corresponding Period Previ...</td>\n      <td>2025-01-01</td>\n      <td>16.797308</td>\n    </tr>\n    <tr>\n      <th>3959</th>\n      <td>Aluminum</td>\n      <td>PALUM</td>\n      <td>US Dollars</td>\n      <td>2025-01-01</td>\n      <td>2571.370435</td>\n    </tr>\n    <tr>\n      <th>3960</th>\n      <td>Lithium</td>\n      <td>PLITH</td>\n      <td>US Dollars</td>\n      <td>2025-01-01</td>\n      <td>91267.271203</td>\n    </tr>\n    <tr>\n      <th>3961</th>\n      <td>Nickel</td>\n      <td>PNICK</td>\n      <td>Index</td>\n      <td>2025-01-01</td>\n      <td>160.226930</td>\n    </tr>\n    <tr>\n      <th>3962</th>\n      <td>Nickel</td>\n      <td>PNICK</td>\n      <td>Percent Change over Previous Period</td>\n      <td>2025-01-01</td>\n      <td>-0.418401</td>\n    </tr>\n  </tbody>\n</table>\n<p>3963 rows × 5 columns</p>\n</div>"
     },
     "execution_count": 17,
     "metadata": {},
     "output_type": "execute_result"
    }
   ],
   "source": [
    "metals = pd.read_csv(\"data/Commodities IMF Data/commodities_IMF.csv\")\n",
    "metals = metals.drop(columns=[\"Unnamed: 428\", \"Country Name\", \"Country Code\", \"Unit Code\", \"Attribute\"],\n",
    "                     errors=\"ignore\")\n",
    "metals = metals.drop_duplicates().reset_index(drop=True)\n",
    "\n",
    "# Reshape Data to Long Format\n",
    "metals = metals.melt(id_vars=[\"Commodity Name\", \"Commodity Code\", \"Unit Name\"], \n",
    "                      var_name=\"Date\", value_name=\"Value\")\n",
    "\n",
    "# Convert Date Column to datetime format\n",
    "metals[\"Date\"] = pd.to_datetime(metals[\"Date\"].str.replace(\"M\", \"-\", regex=False), format=\"%Y-%m\")\n",
    "\n",
    "metals = metals.dropna(subset=[\"Value\"])\n",
    "metals[\"Value\"] = pd.to_numeric(metals[\"Value\"], errors=\"coerce\")\n",
    "metals = metals.reset_index(drop=True)\n",
    "metals"
   ],
   "metadata": {
    "collapsed": false,
    "ExecuteTime": {
     "end_time": "2025-04-09T04:33:07.001159Z",
     "start_time": "2025-04-09T04:33:06.218366Z"
    }
   },
   "id": "9115cfb1f954f759",
   "execution_count": 17
  },
  {
   "cell_type": "code",
   "outputs": [],
   "source": [],
   "metadata": {
    "collapsed": false
   },
   "id": "dab1bc1c499bbd39"
  }
 ],
 "metadata": {
  "kernelspec": {
   "display_name": "Python 3",
   "language": "python",
   "name": "python3"
  },
  "language_info": {
   "codemirror_mode": {
    "name": "ipython",
    "version": 2
   },
   "file_extension": ".py",
   "mimetype": "text/x-python",
   "name": "python",
   "nbconvert_exporter": "python",
   "pygments_lexer": "ipython2",
   "version": "2.7.6"
  }
 },
 "nbformat": 4,
 "nbformat_minor": 5
}
